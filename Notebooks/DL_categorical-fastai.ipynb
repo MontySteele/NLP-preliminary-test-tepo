{
 "cells": [
  {
   "cell_type": "markdown",
   "metadata": {},
   "source": [
    "###### In this notebook I attempt to fit my data using a neural network with the fastai library. I import my cleaned data, perform a train-test split, then build a simple model that takes advantage of transfer learning on an LSTM architecture."
   ]
  },
  {
   "cell_type": "code",
   "execution_count": 1,
   "metadata": {},
   "outputs": [],
   "source": [
    "import pandas as pd\n",
    "import numpy as np\n",
    "import nltk\n",
    "import re\n",
    "sent_token = nltk.sent_tokenize\n",
    "import csv  \n",
    "from nltk import sent_tokenize, word_tokenize, pos_tag\n",
    "import re\n",
    "from sklearn.feature_extraction.text import CountVectorizer\n",
    "wpt = nltk.WordPunctTokenizer()\n",
    "from sklearn.model_selection import train_test_split\n",
    "import random\n",
    "from datetime import datetime\n",
    "from fastai.text import *\n",
    "\n",
    "file_path_comments = r'~/Documents/Springboard/Springboard/Data/cleaned_comment_data.csv'\n",
    "#file_path_comments = r'/mnt/c/Users/msteele9/Documents/Springboard/Springboard/Data/cleaned_comment_data.csv'\n",
    "\n",
    "clean_comments = pd.read_csv(file_path_comments, index_col = False)"
   ]
  },
  {
   "cell_type": "code",
   "execution_count": 2,
   "metadata": {},
   "outputs": [
    {
     "name": "stdout",
     "output_type": "stream",
     "text": [
      "Stunning photos and reportage. Infuriating that the Trump admistration's draconian reinstatement of the global gag order will prevent men and women from receiving appropriate family planning advice, so obviously desperately   needed.\n"
     ]
    },
    {
     "data": {
      "text/plain": [
       "0    2.0\n",
       "1    1.0\n",
       "2    3.0\n",
       "3    7.0\n",
       "4    5.0\n",
       "Name: recommendations, dtype: float64"
      ]
     },
     "execution_count": 2,
     "metadata": {},
     "output_type": "execute_result"
    }
   ],
   "source": [
    "X = clean_comments['commentBody']\n",
    "y = clean_comments['recommendations']\n",
    "print(X[1])\n",
    "y.head(5)"
   ]
  },
  {
   "cell_type": "markdown",
   "metadata": {},
   "source": [
    "## In this next cell, I convert my integer target, 'recommendations', to a category target. I create bins such as (-1 to 1), (1 to 25) and so on, placing my recommendation values in the correct bin."
   ]
  },
  {
   "cell_type": "code",
   "execution_count": 3,
   "metadata": {},
   "outputs": [],
   "source": [
    "#set up bins\n",
    "bin = [-1, 1, 25, 1000000]\n",
    "label = [0, 1, 2]\n",
    "#use pd.cut function can attribute the values into its specific bins\n",
    "category = pd.cut(y, bin, labels=label)\n",
    "category = category.to_frame()\n",
    "category.columns = ['range']\n",
    "#concatenate age and its bin\n",
    "df_new = pd.concat([y,category],axis = 1)"
   ]
  },
  {
   "cell_type": "markdown",
   "metadata": {},
   "source": [
    "### Here I create a crossfold validation split. I then merge the separated comments and recommendation counts into one dataframe containing training data and one dataframe containing test data, which fastai takes as inputs."
   ]
  },
  {
   "cell_type": "code",
   "execution_count": 4,
   "metadata": {},
   "outputs": [],
   "source": [
    "X_train, X_test, y_train, y_test = train_test_split(\n",
    "    X, df_new['range'], test_size=0.2, random_state=random.seed(datetime.now()))"
   ]
  },
  {
   "cell_type": "code",
   "execution_count": 26,
   "metadata": {},
   "outputs": [],
   "source": [
    "df_nlp_data_train = pd.concat([y_train, X_train], axis=1)\n",
    "df_nlp_data_test = pd.concat([y_test, X_test], axis=1)\n",
    "\n",
    "path = r'~/Documents/Springboard/Springboard/Data/'\n",
    "data_lm = TextLMDataBunch.from_df(path=\"\", train_df=df_nlp_data_train, valid_df=df_nlp_data_test, bs=32)\n",
    "data_clas  = TextClasDataBunch.from_df(path=\"\", train_df=df_nlp_data_train, valid_df=df_nlp_data_test, bs=32)"
   ]
  },
  {
   "cell_type": "code",
   "execution_count": 27,
   "metadata": {},
   "outputs": [],
   "source": [
    "#data_lm.show_batch(1)"
   ]
  },
  {
   "cell_type": "markdown",
   "metadata": {},
   "source": [
    "### In this cell I am creating my model using data blocks created using the text classifier with the LSTM model architecture."
   ]
  },
  {
   "cell_type": "code",
   "execution_count": 29,
   "metadata": {},
   "outputs": [
    {
     "data": {
      "text/html": [
       "<table border=\"1\" class=\"dataframe\">\n",
       "  <thead>\n",
       "    <tr style=\"text-align: left;\">\n",
       "      <th>epoch</th>\n",
       "      <th>train_loss</th>\n",
       "      <th>valid_loss</th>\n",
       "      <th>accuracy</th>\n",
       "      <th>time</th>\n",
       "    </tr>\n",
       "  </thead>\n",
       "  <tbody>\n",
       "    <tr>\n",
       "      <td>0</td>\n",
       "      <td>3.996929</td>\n",
       "      <td>3.759622</td>\n",
       "      <td>0.344279</td>\n",
       "      <td>03:59</td>\n",
       "    </tr>\n",
       "  </tbody>\n",
       "</table>"
      ],
      "text/plain": [
       "<IPython.core.display.HTML object>"
      ]
     },
     "metadata": {},
     "output_type": "display_data"
    }
   ],
   "source": [
    "learn = language_model_learner(data_lm, AWD_LSTM)\n",
    "learn.unfreeze()\n",
    "learn.fit_one_cycle(1, slice(1e-2), moms=(0.8,0.7))\n",
    "learn.save_encoder('enc')"
   ]
  },
  {
   "cell_type": "code",
   "execution_count": 30,
   "metadata": {},
   "outputs": [
    {
     "data": {
      "text/plain": [
       "RNNLearner(data=TextClasDataBunch;\n",
       "\n",
       "Train: LabelList (40000 items)\n",
       "x: TextList\n",
       "xxbos xxmaj sotomayor believes she 's a better xxup scotus justice because she 's not male and not caucasian . xxmaj which means : xxmaj she intentionally discriminates against males and caucasians . xxmaj how is she a better xxup scotus justice than xxmaj gorsuch ?,xxbos xxmaj too bad it took cheating to get him in.<br / > xxmaj we can ignore xxmaj merrick xxmaj garland since a black pres nominated him ? xxmaj then we bend the rules to make sure our white knight gets in .,xxbos xxmaj rick xxmaj scott is only following precedent for a governor of xxmaj florida . xxmaj remember how xxmaj jeb xxmaj bush , the supposedly rational and sane candidate of last year 's field , shoved his big , meddling nose into the middle of a family 's private decision about end of life care for xxmaj terri xxmaj schiavo ? xxmaj when courts ruled against his executive order , he xxunk ordered the state xxmaj attorney xxmaj general to investigate xxmaj schiavo 's husband to see whether he could be charged in relation to the collapse that put xxmaj schiavo into a coma . xxmaj the xxup ag rightly refused to call this an \" investigation , \" but undertook an inquiry and found no basis for criminal charges .,xxbos i believe that being addicted to video games is 100 % possible , i have seen it in people lives . xxmaj however , this does not mean that we need to be careful of video games , too much of anything is bad . xxmaj people can become addicted to anything , and from that addiction , negatives may arise , this is not from the item itself , in this case . xxmaj in saying this i do not mean that negatives only come from bad habits and negatives you created , some items may cause negatives in and of themselves such as drugs or dangerous activities . xxmaj whereas in the case of video games , the issues only arise when the user creates an issue . xxmaj everyone who xxunk will see the issues the follow it , but not everyone will see the negatives of video games .,xxbos xxmaj yay . xxmaj someone that sees through the propaganda .\n",
       "y: CategoryList\n",
       "1,1,0,0,0\n",
       "Path: .;\n",
       "\n",
       "Valid: LabelList (10000 items)\n",
       "x: TextList\n",
       "xxbos xxmaj trump , you 're up .,xxbos xxmaj apart from the huge inconvenience and the embarrassment of having foreign visitors see our chaotic xxunk , i worry about safety , and not just the actual safety of the trains and tracks , but the safety inside the station when so many people gather and start rushing toward a narrow gate as a crowd . xxmaj on xxmaj monday evening , i saw no policemen , no xxmaj amtrak employees , no - one trying to establish crowd control at xxmaj penn xxmaj station . xxmaj it was , frankly , horrifying , especially the crush of bodies trying to get through the half - open door and down the narrow xxunk to the track . a terrorist would not have to do much to cause panic and extensive harm . i am shocked that we make ourselves so vulnerable , despite all the talk about security . xxmaj establishing orderly procedure and conduct within the station is just as urgent as fixing the infrastructure itself . xxmaj and i hate to think what would happen if we ever had to use xxmaj penn xxmaj station and the existing lines for any sort of emergency xxunk ! xxmaj there would be mass chaos and endangered lives . xxmaj is anyone in power thinking about this ? xxmaj or have we reached such a state of apathy ?,xxbos xxmaj it 's very , very funny ...,xxbos xxmaj what is unclear here is why xxup d.j. was not allowed to testify using facilitated communication . xxmaj he could have been aided by someone unknown to him , or he could have used the yes / no format described in the article . xxmaj still , i am of the opinion that xxmaj ms. xxmaj stubblefield was wrong to initiate a sexual relationship with him , on the grounds that it is improper for a professional , paid or not , to engage sexually with a person she is helping . xxmaj the relationship is not between equals , in the sense that one is in authority while the other is not . < br / > < br / > xxmaj at the same time , if the facts are as they are presented here , then xxmaj ms. xxmaj stubblefield 's sentence is inappropriately long , regardless of the short sentence given the privileged rapist in the other case . xxmaj one could reasonably argue that she violated ethical norms , not the man himself . < br / > < br / > xxmaj whether xxup d.j. was a willing participant should be a mitigating factor . xxmaj whether he derived pleasure from the sexual contact is immaterial . xxmaj what matters is whether he wanted the sexual contact . xxmaj if he did , then we have an ethical issue rather than a legal one .,xxbos i 'm a combat veteran ( xxmaj vietnam 1969 - 70 ) , but i always look for a solution beyond war . i supported xxmaj president xxmaj obama in almost all things , except xxmaj syria . xxmaj this is the final straw , the red line in the sand . xxmaj the world must end this attack on the xxmaj syrian people . xxmaj we do n't have to go it alone , although the xxmaj trump xxmaj administration has n't made many friends abroad , and come to think of it at home either .\n",
       "y: CategoryList\n",
       "1,1,1,2,2\n",
       "Path: .;\n",
       "\n",
       "Test: None, model=SequentialRNN(\n",
       "  (0): MultiBatchEncoder(\n",
       "    (module): AWD_LSTM(\n",
       "      (encoder): Embedding(38248, 400, padding_idx=1)\n",
       "      (encoder_dp): EmbeddingDropout(\n",
       "        (emb): Embedding(38248, 400, padding_idx=1)\n",
       "      )\n",
       "      (rnns): ModuleList(\n",
       "        (0): WeightDropout(\n",
       "          (module): LSTM(400, 1152, batch_first=True)\n",
       "        )\n",
       "        (1): WeightDropout(\n",
       "          (module): LSTM(1152, 1152, batch_first=True)\n",
       "        )\n",
       "        (2): WeightDropout(\n",
       "          (module): LSTM(1152, 400, batch_first=True)\n",
       "        )\n",
       "      )\n",
       "      (input_dp): RNNDropout()\n",
       "      (hidden_dps): ModuleList(\n",
       "        (0): RNNDropout()\n",
       "        (1): RNNDropout()\n",
       "        (2): RNNDropout()\n",
       "      )\n",
       "    )\n",
       "  )\n",
       "  (1): PoolingLinearClassifier(\n",
       "    (layers): Sequential(\n",
       "      (0): BatchNorm1d(1200, eps=1e-05, momentum=0.1, affine=True, track_running_stats=True)\n",
       "      (1): Dropout(p=0.12)\n",
       "      (2): Linear(in_features=1200, out_features=50, bias=True)\n",
       "      (3): ReLU(inplace)\n",
       "      (4): BatchNorm1d(50, eps=1e-05, momentum=0.1, affine=True, track_running_stats=True)\n",
       "      (5): Dropout(p=0.1)\n",
       "      (6): Linear(in_features=50, out_features=3, bias=True)\n",
       "    )\n",
       "  )\n",
       "), opt_func=functools.partial(<class 'torch.optim.adam.Adam'>, betas=(0.9, 0.99)), loss_func=FlattenedLoss of CrossEntropyLoss(), metrics=[<function accuracy at 0x0000019552AE3D08>], true_wd=True, bn_wd=True, wd=0.01, train_bn=True, path=WindowsPath('.'), model_dir='models', callback_fns=[functools.partial(<class 'fastai.basic_train.Recorder'>, add_time=True, silent=False)], callbacks=[RNNTrainer\n",
       "learn: RNNLearner(data=TextClasDataBunch;\n",
       "\n",
       "Train: LabelList (40000 items)\n",
       "x: TextList\n",
       "xxbos xxmaj sotomayor believes she 's a better xxup scotus justice because she 's not male and not caucasian . xxmaj which means : xxmaj she intentionally discriminates against males and caucasians . xxmaj how is she a better xxup scotus justice than xxmaj gorsuch ?,xxbos xxmaj too bad it took cheating to get him in.<br / > xxmaj we can ignore xxmaj merrick xxmaj garland since a black pres nominated him ? xxmaj then we bend the rules to make sure our white knight gets in .,xxbos xxmaj rick xxmaj scott is only following precedent for a governor of xxmaj florida . xxmaj remember how xxmaj jeb xxmaj bush , the supposedly rational and sane candidate of last year 's field , shoved his big , meddling nose into the middle of a family 's private decision about end of life care for xxmaj terri xxmaj schiavo ? xxmaj when courts ruled against his executive order , he xxunk ordered the state xxmaj attorney xxmaj general to investigate xxmaj schiavo 's husband to see whether he could be charged in relation to the collapse that put xxmaj schiavo into a coma . xxmaj the xxup ag rightly refused to call this an \" investigation , \" but undertook an inquiry and found no basis for criminal charges .,xxbos i believe that being addicted to video games is 100 % possible , i have seen it in people lives . xxmaj however , this does not mean that we need to be careful of video games , too much of anything is bad . xxmaj people can become addicted to anything , and from that addiction , negatives may arise , this is not from the item itself , in this case . xxmaj in saying this i do not mean that negatives only come from bad habits and negatives you created , some items may cause negatives in and of themselves such as drugs or dangerous activities . xxmaj whereas in the case of video games , the issues only arise when the user creates an issue . xxmaj everyone who xxunk will see the issues the follow it , but not everyone will see the negatives of video games .,xxbos xxmaj yay . xxmaj someone that sees through the propaganda .\n",
       "y: CategoryList\n",
       "1,1,0,0,0\n",
       "Path: .;\n",
       "\n",
       "Valid: LabelList (10000 items)\n",
       "x: TextList\n",
       "xxbos xxmaj trump , you 're up .,xxbos xxmaj apart from the huge inconvenience and the embarrassment of having foreign visitors see our chaotic xxunk , i worry about safety , and not just the actual safety of the trains and tracks , but the safety inside the station when so many people gather and start rushing toward a narrow gate as a crowd . xxmaj on xxmaj monday evening , i saw no policemen , no xxmaj amtrak employees , no - one trying to establish crowd control at xxmaj penn xxmaj station . xxmaj it was , frankly , horrifying , especially the crush of bodies trying to get through the half - open door and down the narrow xxunk to the track . a terrorist would not have to do much to cause panic and extensive harm . i am shocked that we make ourselves so vulnerable , despite all the talk about security . xxmaj establishing orderly procedure and conduct within the station is just as urgent as fixing the infrastructure itself . xxmaj and i hate to think what would happen if we ever had to use xxmaj penn xxmaj station and the existing lines for any sort of emergency xxunk ! xxmaj there would be mass chaos and endangered lives . xxmaj is anyone in power thinking about this ? xxmaj or have we reached such a state of apathy ?,xxbos xxmaj it 's very , very funny ...,xxbos xxmaj what is unclear here is why xxup d.j. was not allowed to testify using facilitated communication . xxmaj he could have been aided by someone unknown to him , or he could have used the yes / no format described in the article . xxmaj still , i am of the opinion that xxmaj ms. xxmaj stubblefield was wrong to initiate a sexual relationship with him , on the grounds that it is improper for a professional , paid or not , to engage sexually with a person she is helping . xxmaj the relationship is not between equals , in the sense that one is in authority while the other is not . < br / > < br / > xxmaj at the same time , if the facts are as they are presented here , then xxmaj ms. xxmaj stubblefield 's sentence is inappropriately long , regardless of the short sentence given the privileged rapist in the other case . xxmaj one could reasonably argue that she violated ethical norms , not the man himself . < br / > < br / > xxmaj whether xxup d.j. was a willing participant should be a mitigating factor . xxmaj whether he derived pleasure from the sexual contact is immaterial . xxmaj what matters is whether he wanted the sexual contact . xxmaj if he did , then we have an ethical issue rather than a legal one .,xxbos i 'm a combat veteran ( xxmaj vietnam 1969 - 70 ) , but i always look for a solution beyond war . i supported xxmaj president xxmaj obama in almost all things , except xxmaj syria . xxmaj this is the final straw , the red line in the sand . xxmaj the world must end this attack on the xxmaj syrian people . xxmaj we do n't have to go it alone , although the xxmaj trump xxmaj administration has n't made many friends abroad , and come to think of it at home either .\n",
       "y: CategoryList\n",
       "1,1,1,2,2\n",
       "Path: .;\n",
       "\n",
       "Test: None, model=SequentialRNN(\n",
       "  (0): MultiBatchEncoder(\n",
       "    (module): AWD_LSTM(\n",
       "      (encoder): Embedding(38248, 400, padding_idx=1)\n",
       "      (encoder_dp): EmbeddingDropout(\n",
       "        (emb): Embedding(38248, 400, padding_idx=1)\n",
       "      )\n",
       "      (rnns): ModuleList(\n",
       "        (0): WeightDropout(\n",
       "          (module): LSTM(400, 1152, batch_first=True)\n",
       "        )\n",
       "        (1): WeightDropout(\n",
       "          (module): LSTM(1152, 1152, batch_first=True)\n",
       "        )\n",
       "        (2): WeightDropout(\n",
       "          (module): LSTM(1152, 400, batch_first=True)\n",
       "        )\n",
       "      )\n",
       "      (input_dp): RNNDropout()\n",
       "      (hidden_dps): ModuleList(\n",
       "        (0): RNNDropout()\n",
       "        (1): RNNDropout()\n",
       "        (2): RNNDropout()\n",
       "      )\n",
       "    )\n",
       "  )\n",
       "  (1): PoolingLinearClassifier(\n",
       "    (layers): Sequential(\n",
       "      (0): BatchNorm1d(1200, eps=1e-05, momentum=0.1, affine=True, track_running_stats=True)\n",
       "      (1): Dropout(p=0.12)\n",
       "      (2): Linear(in_features=1200, out_features=50, bias=True)\n",
       "      (3): ReLU(inplace)\n",
       "      (4): BatchNorm1d(50, eps=1e-05, momentum=0.1, affine=True, track_running_stats=True)\n",
       "      (5): Dropout(p=0.1)\n",
       "      (6): Linear(in_features=50, out_features=3, bias=True)\n",
       "    )\n",
       "  )\n",
       "), opt_func=functools.partial(<class 'torch.optim.adam.Adam'>, betas=(0.9, 0.99)), loss_func=FlattenedLoss of CrossEntropyLoss(), metrics=[<function accuracy at 0x0000019552AE3D08>], true_wd=True, bn_wd=True, wd=0.01, train_bn=True, path=WindowsPath('.'), model_dir='models', callback_fns=[functools.partial(<class 'fastai.basic_train.Recorder'>, add_time=True, silent=False)], callbacks=[...], layer_groups=[Sequential(\n",
       "  (0): Embedding(38248, 400, padding_idx=1)\n",
       "  (1): EmbeddingDropout(\n",
       "    (emb): Embedding(38248, 400, padding_idx=1)\n",
       "  )\n",
       "), Sequential(\n",
       "  (0): WeightDropout(\n",
       "    (module): LSTM(400, 1152, batch_first=True)\n",
       "  )\n",
       "  (1): RNNDropout()\n",
       "), Sequential(\n",
       "  (0): WeightDropout(\n",
       "    (module): LSTM(1152, 1152, batch_first=True)\n",
       "  )\n",
       "  (1): RNNDropout()\n",
       "), Sequential(\n",
       "  (0): WeightDropout(\n",
       "    (module): LSTM(1152, 400, batch_first=True)\n",
       "  )\n",
       "  (1): RNNDropout()\n",
       "), Sequential(\n",
       "  (0): PoolingLinearClassifier(\n",
       "    (layers): Sequential(\n",
       "      (0): BatchNorm1d(1200, eps=1e-05, momentum=0.1, affine=True, track_running_stats=True)\n",
       "      (1): Dropout(p=0.12)\n",
       "      (2): Linear(in_features=1200, out_features=50, bias=True)\n",
       "      (3): ReLU(inplace)\n",
       "      (4): BatchNorm1d(50, eps=1e-05, momentum=0.1, affine=True, track_running_stats=True)\n",
       "      (5): Dropout(p=0.1)\n",
       "      (6): Linear(in_features=50, out_features=3, bias=True)\n",
       "    )\n",
       "  )\n",
       ")], add_time=True, silent=False, cb_fns_registered=False)\n",
       "alpha: 2.0\n",
       "beta: 1.0], layer_groups=[Sequential(\n",
       "  (0): Embedding(38248, 400, padding_idx=1)\n",
       "  (1): EmbeddingDropout(\n",
       "    (emb): Embedding(38248, 400, padding_idx=1)\n",
       "  )\n",
       "), Sequential(\n",
       "  (0): WeightDropout(\n",
       "    (module): LSTM(400, 1152, batch_first=True)\n",
       "  )\n",
       "  (1): RNNDropout()\n",
       "), Sequential(\n",
       "  (0): WeightDropout(\n",
       "    (module): LSTM(1152, 1152, batch_first=True)\n",
       "  )\n",
       "  (1): RNNDropout()\n",
       "), Sequential(\n",
       "  (0): WeightDropout(\n",
       "    (module): LSTM(1152, 400, batch_first=True)\n",
       "  )\n",
       "  (1): RNNDropout()\n",
       "), Sequential(\n",
       "  (0): PoolingLinearClassifier(\n",
       "    (layers): Sequential(\n",
       "      (0): BatchNorm1d(1200, eps=1e-05, momentum=0.1, affine=True, track_running_stats=True)\n",
       "      (1): Dropout(p=0.12)\n",
       "      (2): Linear(in_features=1200, out_features=50, bias=True)\n",
       "      (3): ReLU(inplace)\n",
       "      (4): BatchNorm1d(50, eps=1e-05, momentum=0.1, affine=True, track_running_stats=True)\n",
       "      (5): Dropout(p=0.1)\n",
       "      (6): Linear(in_features=50, out_features=3, bias=True)\n",
       "    )\n",
       "  )\n",
       ")], add_time=True, silent=False, cb_fns_registered=False)"
      ]
     },
     "execution_count": 30,
     "metadata": {},
     "output_type": "execute_result"
    }
   ],
   "source": [
    "learn = text_classifier_learner(data_clas, arch=AWD_LSTM, drop_mult=0.3)\n",
    "learn.load_encoder('enc')"
   ]
  },
  {
   "cell_type": "code",
   "execution_count": 31,
   "metadata": {},
   "outputs": [
    {
     "data": {
      "text/html": [],
      "text/plain": [
       "<IPython.core.display.HTML object>"
      ]
     },
     "metadata": {},
     "output_type": "display_data"
    },
    {
     "name": "stdout",
     "output_type": "stream",
     "text": [
      "LR Finder is complete, type {learner_name}.recorder.plot() to see the graph.\n"
     ]
    }
   ],
   "source": [
    "learn.lr_find()\n"
   ]
  },
  {
   "cell_type": "code",
   "execution_count": 32,
   "metadata": {},
   "outputs": [
    {
     "name": "stdout",
     "output_type": "stream",
     "text": [
      "Min numerical gradient: 1.10E-02\n",
      "Min loss divided by 10: 6.92E-03\n"
     ]
    },
    {
     "data": {
      "image/png": "[encoded data removed]",
      "text/plain": [
       "<Figure size 432x288 with 1 Axes>"
      ]
     },
     "metadata": {
      "needs_background": "light"
     },
     "output_type": "display_data"
    }
   ],
   "source": [
    "learn.recorder.plot(suggestion=True, skip_end=15)\n",
    "min_grad_lr=learn.recorder.min_grad_lr"
   ]
  },
  {
   "cell_type": "code",
   "execution_count": 33,
   "metadata": {},
   "outputs": [
    {
     "data": {
      "text/html": [
       "<table border=\"1\" class=\"dataframe\">\n",
       "  <thead>\n",
       "    <tr style=\"text-align: left;\">\n",
       "      <th>epoch</th>\n",
       "      <th>train_loss</th>\n",
       "      <th>valid_loss</th>\n",
       "      <th>accuracy</th>\n",
       "      <th>time</th>\n",
       "    </tr>\n",
       "  </thead>\n",
       "  <tbody>\n",
       "    <tr>\n",
       "      <td>0</td>\n",
       "      <td>0.859919</td>\n",
       "      <td>0.860726</td>\n",
       "      <td>0.583900</td>\n",
       "      <td>01:48</td>\n",
       "    </tr>\n",
       "  </tbody>\n",
       "</table>"
      ],
      "text/plain": [
       "<IPython.core.display.HTML object>"
      ]
     },
     "metadata": {},
     "output_type": "display_data"
    }
   ],
   "source": [
    "learn.fit_one_cycle(10, min_grad_lr, moms=(0.8,0.7))"
   ]
  },
  {
   "cell_type": "code",
   "execution_count": 34,
   "metadata": {},
   "outputs": [],
   "source": [
    "learn.save('fit_head')"
   ]
  },
  {
   "cell_type": "code",
   "execution_count": 35,
   "metadata": {},
   "outputs": [],
   "source": [
    "learn.load('fit_head');"
   ]
  },
  {
   "cell_type": "code",
   "execution_count": 36,
   "metadata": {},
   "outputs": [],
   "source": [
    "learn.unfreeze()"
   ]
  },
  {
   "cell_type": "code",
   "execution_count": 37,
   "metadata": {},
   "outputs": [],
   "source": [
    "#save_path = r'~/Documents/Springboard/Springboard/Models/'\n",
    "#data_lm.save('~/Documents/Springboard/Springboard/Models/')"
   ]
  },
  {
   "cell_type": "markdown",
   "metadata": {},
   "source": [
    "Here we get the predictions of the validation set, then print a sample of predictions. This is to verify that the model is not defaulting to a trivial output such as putting all predictions in the same category."
   ]
  },
  {
   "cell_type": "code",
   "execution_count": 38,
   "metadata": {},
   "outputs": [
    {
     "name": "stdout",
     "output_type": "stream",
     "text": [
      "The accuracy is 0.583899974822998 %.\n"
     ]
    }
   ],
   "source": [
    "preds, y_predict, loss = learn.get_preds(with_loss=True)\n",
    "# get accuracy\n",
    "acc = accuracy(preds, y_predict)\n",
    "print('The accuracy is {0} %.'.format(acc))"
   ]
  },
  {
   "cell_type": "code",
   "execution_count": 39,
   "metadata": {},
   "outputs": [
    {
     "data": {
      "text/plain": [
       "Text(0.5, 1.0, 'Predictions')"
      ]
     },
     "execution_count": 39,
     "metadata": {},
     "output_type": "execute_result"
    },
    {
     "data": {
      "image/png": "[encoded data removed]",
      "text/plain": [
       "<Figure size 432x288 with 2 Axes>"
      ]
     },
     "metadata": {
      "needs_background": "light"
     },
     "output_type": "display_data"
    }
   ],
   "source": [
    "n_bins=10\n",
    "\n",
    "fig, axs = plt.subplots(1, 2, sharey=True, tight_layout=True)\n",
    "\n",
    "# We can set the number of bins with the `bins` kwarg\n",
    "axs[0].hist(y_test[:10000], bins=n_bins)\n",
    "#axs[0].set_yscale('log')\n",
    "axs[0].set_title('Actual values')\n",
    "axs[1].hist(y_predict[:10000], bins=n_bins)\n",
    "#axs[1].set_yscale('log')\n",
    "axs[1].set_title('Predictions')"
   ]
  },
  {
   "cell_type": "code",
   "execution_count": 40,
   "metadata": {},
   "outputs": [
    {
     "name": "stdout",
     "output_type": "stream",
     "text": [
      "   1  2\n",
      "0  1  1\n",
      "1  1  1\n",
      "2  1  1\n",
      "3  2  1\n",
      "4  2  1\n",
      "5  1  0\n",
      "6  1  0\n",
      "7  1  0\n",
      "8  1  0\n",
      "9  0  0\n",
      "1    5139\n",
      "0    3875\n",
      "2     986\n",
      "Name: 1, dtype: int64\n",
      "1    5139\n",
      "0    3875\n",
      "2     986\n",
      "Name: 2, dtype: int64\n"
     ]
    }
   ],
   "source": [
    "act_vs_pred = pd.concat([y_test[:10000].reset_index(), pd.Series(y_predict[:10000].numpy())], axis=1, ignore_index=True).drop(columns=[0])\n",
    "print(act_vs_pred.head(10))\n",
    "\n",
    "#print(act_vs_pred.groupby(1).count())\n",
    "#print(act_vs_pred.groupby(2).count())\n",
    "print(act_vs_pred[1].value_counts())\n",
    "print(act_vs_pred[2].value_counts())"
   ]
  },
  {
   "cell_type": "code",
   "execution_count": null,
   "metadata": {},
   "outputs": [],
   "source": []
  },
  {
   "cell_type": "code",
   "execution_count": null,
   "metadata": {},
   "outputs": [],
   "source": []
  }
 ],
 "metadata": {
  "kernelspec": {
   "display_name": "Python [conda env:fastai_v1] *",
   "language": "python",
   "name": "conda-env-fastai_v1-py"
  },
  "language_info": {
   "codemirror_mode": {
    "name": "ipython",
    "version": 3
   },
   "file_extension": ".py",
   "mimetype": "text/x-python",
   "name": "python",
   "nbconvert_exporter": "python",
   "pygments_lexer": "ipython3",
   "version": "3.6.9"
  }
 },
 "nbformat": 4,
 "nbformat_minor": 2
}

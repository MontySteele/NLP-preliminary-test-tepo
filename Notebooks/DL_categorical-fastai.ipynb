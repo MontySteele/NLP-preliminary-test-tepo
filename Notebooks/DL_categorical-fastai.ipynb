{
 "cells": [
  {
   "cell_type": "markdown",
   "metadata": {},
   "source": [
    "###### In this notebook I attempt to fit my data using a neural network with the fastai library. I import my cleaned data, perform a train-test split, then build a simple model that takes advantage of transfer learning on an LSTM architecture."
   ]
  },
  {
   "cell_type": "code",
   "execution_count": 1,
   "metadata": {},
   "outputs": [],
   "source": [
    "import pandas as pd\n",
    "import numpy as np\n",
    "import nltk\n",
    "import re\n",
    "sent_token = nltk.sent_tokenize\n",
    "import csv  \n",
    "from nltk import sent_tokenize, word_tokenize, pos_tag\n",
    "import re\n",
    "from sklearn.feature_extraction.text import CountVectorizer\n",
    "wpt = nltk.WordPunctTokenizer()\n",
    "from sklearn.model_selection import train_test_split\n",
    "import random\n",
    "from datetime import datetime\n",
    "from fastai.text import *\n",
    "\n",
    "file_path_comments = r'~/Documents/Springboard/Springboard/Data/cleaned_comment_data.csv'\n",
    "#file_path_comments = r'/mnt/c/Users/msteele9/Documents/Springboard/Springboard/Data/cleaned_comment_data.csv'\n",
    "\n",
    "clean_comments = pd.read_csv(file_path_comments, index_col = False)"
   ]
  },
  {
   "cell_type": "code",
   "execution_count": 2,
   "metadata": {},
   "outputs": [
    {
     "name": "stdout",
     "output_type": "stream",
     "text": [
      "Stunning photos and reportage. Infuriating that the Trump admistration's draconian reinstatement of the global gag order will prevent men and women from receiving appropriate family planning advice, so obviously desperately   needed.\n"
     ]
    },
    {
     "data": {
      "text/plain": [
       "0    2.0\n",
       "1    1.0\n",
       "2    3.0\n",
       "3    7.0\n",
       "4    5.0\n",
       "Name: recommendations, dtype: float64"
      ]
     },
     "execution_count": 2,
     "metadata": {},
     "output_type": "execute_result"
    }
   ],
   "source": [
    "X = clean_comments['commentBody']\n",
    "y = clean_comments['recommendations']\n",
    "print(X[1])\n",
    "y.head(5)"
   ]
  },
  {
   "cell_type": "markdown",
   "metadata": {},
   "source": [
    "## In this next cell, I convert my integer target, 'recommendations', to a category target. I create bins such as (-1 to 1), (1 to 25) and so on, placing my recommendation values in the correct bin."
   ]
  },
  {
   "cell_type": "code",
   "execution_count": 3,
   "metadata": {},
   "outputs": [],
   "source": [
    "#set up bins\n",
    "bin = [-1, 1, 25, 1000000]\n",
    "label = [0, 1, 2]\n",
    "#use pd.cut function can attribute the values into its specific bins\n",
    "category = pd.cut(y, bin, labels=label)\n",
    "category = category.to_frame()\n",
    "category.columns = ['range']\n",
    "#concatenate age and its bin\n",
    "df_new = pd.concat([y,category],axis = 1)"
   ]
  },
  {
   "cell_type": "markdown",
   "metadata": {},
   "source": [
    "### Here I create a crossfold validation split. I then merge the separated comments and recommendation counts into one dataframe containing training data and one dataframe containing test data, which fastai takes as inputs."
   ]
  },
  {
   "cell_type": "code",
   "execution_count": 4,
   "metadata": {},
   "outputs": [],
   "source": [
    "X_train, X_test, y_train, y_test = train_test_split(\n",
    "    X, df_new['range'], test_size=0.2, random_state=random.seed(datetime.now()))"
   ]
  },
  {
   "cell_type": "code",
   "execution_count": 5,
   "metadata": {},
   "outputs": [],
   "source": [
    "df_nlp_data_train = pd.concat([y_train, X_train], axis=1)\n",
    "df_nlp_data_test = pd.concat([y_test, X_test], axis=1)\n",
    "\n",
    "path = r'~/Documents/Springboard/Springboard/Data/'\n",
    "data_lm = TextClasDataBunch.from_df(path=\"\", train_df=df_nlp_data_train, valid_df=df_nlp_data_test, bs=32)"
   ]
  },
  {
   "cell_type": "code",
   "execution_count": 6,
   "metadata": {},
   "outputs": [],
   "source": [
    "#data_lm.show_batch(1)"
   ]
  },
  {
   "cell_type": "markdown",
   "metadata": {},
   "source": [
    "### In this cell I am creating my model using data blocks created using the text classifier with the LSTM model architecture."
   ]
  },
  {
   "cell_type": "code",
   "execution_count": 8,
   "metadata": {},
   "outputs": [],
   "source": [
    "learn = text_classifier_learner(data_lm, arch=AWD_LSTM, drop_mult=0.3)"
   ]
  },
  {
   "cell_type": "code",
   "execution_count": 9,
   "metadata": {},
   "outputs": [
    {
     "data": {
      "text/html": [],
      "text/plain": [
       "<IPython.core.display.HTML object>"
      ]
     },
     "metadata": {},
     "output_type": "display_data"
    },
    {
     "name": "stdout",
     "output_type": "stream",
     "text": [
      "LR Finder is complete, type {learner_name}.recorder.plot() to see the graph.\n"
     ]
    }
   ],
   "source": [
    "learn.lr_find()\n"
   ]
  },
  {
   "cell_type": "code",
   "execution_count": 10,
   "metadata": {},
   "outputs": [
    {
     "name": "stdout",
     "output_type": "stream",
     "text": [
      "Min numerical gradient: 4.79E-02\n",
      "Min loss divided by 10: 1.20E-02\n"
     ]
    },
    {
     "data": {
      "image/png": "[encoded data removed]",
      "text/plain": [
       "<Figure size 432x288 with 1 Axes>"
      ]
     },
     "metadata": {
      "needs_background": "light"
     },
     "output_type": "display_data"
    }
   ],
   "source": [
    "learn.recorder.plot(suggestion=True, skip_end=15)\n",
    "min_grad_lr=learn.recorder.min_grad_lr"
   ]
  },
  {
   "cell_type": "code",
   "execution_count": 17,
   "metadata": {},
   "outputs": [
    {
     "data": {
      "text/html": [
       "<table border=\"1\" class=\"dataframe\">\n",
       "  <thead>\n",
       "    <tr style=\"text-align: left;\">\n",
       "      <th>epoch</th>\n",
       "      <th>train_loss</th>\n",
       "      <th>valid_loss</th>\n",
       "      <th>accuracy</th>\n",
       "      <th>time</th>\n",
       "    </tr>\n",
       "  </thead>\n",
       "  <tbody>\n",
       "    <tr>\n",
       "      <td>0</td>\n",
       "      <td>0.925434</td>\n",
       "      <td>0.938685</td>\n",
       "      <td>0.513900</td>\n",
       "      <td>03:41</td>\n",
       "    </tr>\n",
       "  </tbody>\n",
       "</table>"
      ],
      "text/plain": [
       "<IPython.core.display.HTML object>"
      ]
     },
     "metadata": {},
     "output_type": "display_data"
    }
   ],
   "source": [
    "learn.fit_one_cycle(1, min_grad_lr, moms=(0.8,0.7))"
   ]
  },
  {
   "cell_type": "code",
   "execution_count": 11,
   "metadata": {},
   "outputs": [],
   "source": [
    "learn.save('fit_head')"
   ]
  },
  {
   "cell_type": "code",
   "execution_count": 12,
   "metadata": {},
   "outputs": [],
   "source": [
    "learn.load('fit_head');"
   ]
  },
  {
   "cell_type": "code",
   "execution_count": 13,
   "metadata": {},
   "outputs": [],
   "source": [
    "learn.unfreeze()"
   ]
  },
  {
   "cell_type": "code",
   "execution_count": null,
   "metadata": {},
   "outputs": [],
   "source": [
    "#save_path = r'~/Documents/Springboard/Springboard/Models/'\n",
    "#data_lm.save('~/Documents/Springboard/Springboard/Models/')"
   ]
  },
  {
   "cell_type": "markdown",
   "metadata": {},
   "source": [
    "Here we get the predictions of the validation set, then print a sample of predictions. This is to verify that the model is not defaulting to a trivial output such as putting all predictions in the same category."
   ]
  },
  {
   "cell_type": "code",
   "execution_count": 18,
   "metadata": {},
   "outputs": [
    {
     "name": "stdout",
     "output_type": "stream",
     "text": [
      "The accuracy is 0.5138999819755554 %.\n"
     ]
    }
   ],
   "source": [
    "preds, y_predict, loss = learn.get_preds(with_loss=True)\n",
    "# get accuracy\n",
    "acc = accuracy(preds, y_predict)\n",
    "print('The accuracy is {0} %.'.format(acc))"
   ]
  },
  {
   "cell_type": "code",
   "execution_count": 21,
   "metadata": {},
   "outputs": [
    {
     "data": {
      "text/plain": [
       "Text(0.5, 1.0, 'Predictions')"
      ]
     },
     "execution_count": 21,
     "metadata": {},
     "output_type": "execute_result"
    },
    {
     "data": {
      "image/png": "[encoded data removed]",
      "text/plain": [
       "<Figure size 432x288 with 2 Axes>"
      ]
     },
     "metadata": {
      "needs_background": "light"
     },
     "output_type": "display_data"
    }
   ],
   "source": [
    "n_bins=10\n",
    "\n",
    "fig, axs = plt.subplots(1, 2, sharey=True, tight_layout=True)\n",
    "\n",
    "# We can set the number of bins with the `bins` kwarg\n",
    "axs[0].hist(y_test[:10000], bins=n_bins)\n",
    "#axs[0].set_yscale('log')\n",
    "axs[0].set_title('Actual values')\n",
    "axs[1].hist(y_predict[:10000], bins=n_bins)\n",
    "#axs[1].set_yscale('log')\n",
    "axs[1].set_title('Predictions')"
   ]
  },
  {
   "cell_type": "code",
   "execution_count": 22,
   "metadata": {},
   "outputs": [
    {
     "name": "stdout",
     "output_type": "stream",
     "text": [
      "   1  2\n",
      "0  1  1\n",
      "1  1  1\n",
      "2  1  1\n",
      "3  2  1\n",
      "4  2  1\n",
      "5  1  0\n",
      "6  1  0\n",
      "7  1  0\n",
      "8  1  0\n",
      "9  0  0\n",
      "1    5139\n",
      "0    3875\n",
      "2     986\n",
      "Name: 1, dtype: int64\n",
      "1    5139\n",
      "0    3875\n",
      "2     986\n",
      "Name: 2, dtype: int64\n"
     ]
    }
   ],
   "source": [
    "act_vs_pred = pd.concat([y_test[:10000].reset_index(), pd.Series(y_predict[:10000].numpy())], axis=1, ignore_index=True).drop(columns=[0])\n",
    "print(act_vs_pred.head(10))\n",
    "\n",
    "#print(act_vs_pred.groupby(1).count())\n",
    "#print(act_vs_pred.groupby(2).count())\n",
    "print(act_vs_pred[1].value_counts())\n",
    "print(act_vs_pred[2].value_counts())"
   ]
  },
  {
   "cell_type": "code",
   "execution_count": null,
   "metadata": {},
   "outputs": [],
   "source": []
  },
  {
   "cell_type": "code",
   "execution_count": null,
   "metadata": {},
   "outputs": [],
   "source": []
  }
 ],
 "metadata": {
  "kernelspec": {
   "display_name": "Python [conda env:fastai_v1] *",
   "language": "python",
   "name": "conda-env-fastai_v1-py"
  },
  "language_info": {
   "codemirror_mode": {
    "name": "ipython",
    "version": 3
   },
   "file_extension": ".py",
   "mimetype": "text/x-python",
   "name": "python",
   "nbconvert_exporter": "python",
   "pygments_lexer": "ipython3",
   "version": "3.6.9"
  }
 },
 "nbformat": 4,
 "nbformat_minor": 2
}

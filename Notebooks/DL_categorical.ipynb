{
 "cells": [
  {
   "cell_type": "markdown",
   "metadata": {},
   "source": [
    "###### In this notebook I attempt to fit my data using a neural network with the keras library. I import my cleaned data, perform a train-test split, make a simple neural network and build my model. Then I compare the predictions of my model with the actual results of my model to see if I can find issues in the predictions."
   ]
  },
  {
   "cell_type": "code",
   "execution_count": 73,
   "metadata": {},
   "outputs": [],
   "source": [
    "import pandas as pd\n",
    "import numpy as np\n",
    "import nltk\n",
    "import re\n",
    "sent_token = nltk.sent_tokenize\n",
    "import csv  \n",
    "from nltk import sent_tokenize, word_tokenize, pos_tag\n",
    "import re\n",
    "from sklearn.feature_extraction.text import CountVectorizer\n",
    "wpt = nltk.WordPunctTokenizer()\n",
    "\n",
    "\n",
    "file_path_comments = r'~/Documents/Springboard/Springboard/Data/cleaned_comment_data.csv'\n",
    "\n",
    "#file_path_comments = r'/mnt/c/Users/msteele9/Documents/Springboard/Springboard/Data/cleaned_comment_data.csv'\n",
    "clean_comments = pd.read_csv(file_path_comments, index_col = False)"
   ]
  },
  {
   "cell_type": "code",
   "execution_count": 74,
   "metadata": {},
   "outputs": [
    {
     "data": {
      "text/plain": [
       "0    2.0\n",
       "1    1.0\n",
       "2    3.0\n",
       "3    7.0\n",
       "4    5.0\n",
       "Name: recommendations, dtype: float64"
      ]
     },
     "execution_count": 74,
     "metadata": {},
     "output_type": "execute_result"
    }
   ],
   "source": [
    "from sklearn.model_selection import train_test_split\n",
    "import random\n",
    "from datetime import datetime\n",
    "\n",
    "X = clean_comments['commentBody']\n",
    "y = clean_comments['recommendations']\n",
    "y.head(5)"
   ]
  },
  {
   "cell_type": "markdown",
   "metadata": {},
   "source": [
    "### In this next cell, I convert my integer target, 'recommendations', to a category target. I create bins such as (-1 to 1), (1 to 5) and so on, placing my recommendation values in the correct bin."
   ]
  },
  {
   "cell_type": "code",
   "execution_count": 75,
   "metadata": {},
   "outputs": [
    {
     "name": "stdout",
     "output_type": "stream",
     "text": [
      "[[0. 1. 0.]\n",
      " [1. 0. 0.]\n",
      " [0. 1. 0.]\n",
      " ...\n",
      " [0. 1. 0.]\n",
      " [0. 1. 0.]\n",
      " [0. 1. 0.]]\n"
     ]
    },
    {
     "data": {
      "text/plain": [
       "(50000, 3)"
      ]
     },
     "execution_count": 75,
     "metadata": {},
     "output_type": "execute_result"
    }
   ],
   "source": [
    "from keras.utils import to_categorical\n",
    "\n",
    "#set up bins\n",
    "bin = [-1, 1, 25, 1000000]\n",
    "label = [0, 1, 2]\n",
    "#use pd.cut function can attribute the values into its specific bins\n",
    "category = pd.cut(y, bin, labels=label)\n",
    "category = category.to_frame()\n",
    "category.columns = ['range']\n",
    "#concatenate age and its bin\n",
    "df_new = pd.concat([y,category],axis = 1)\n",
    "\n",
    "y_binary = to_categorical(df_new['range'])\n",
    "\n",
    "#df_new['range'].head(5)\n",
    "print(y_binary)\n",
    "y_binary.shape"
   ]
  },
  {
   "cell_type": "code",
   "execution_count": 76,
   "metadata": {},
   "outputs": [],
   "source": [
    "X_train, X_test, y_train, y_test = train_test_split(\n",
    "    X, y_binary, test_size=0.2, random_state=random.seed(datetime.now()))"
   ]
  },
  {
   "cell_type": "code",
   "execution_count": 77,
   "metadata": {},
   "outputs": [],
   "source": [
    "from sklearn.feature_extraction.text import CountVectorizer\n",
    "from nltk.corpus import stopwords\n",
    " \n",
    "vectorizer = CountVectorizer(binary=False, stop_words=stopwords.words('english'), \n",
    "                             lowercase=True, min_df=1, max_df=0.9, max_features=5000)\n",
    "X_train_onehot = vectorizer.fit_transform(X_train)"
   ]
  },
  {
   "cell_type": "markdown",
   "metadata": {},
   "source": [
    "### My model's accuracy function will report back the % of samples for which it places the comment in the correct category."
   ]
  },
  {
   "cell_type": "code",
   "execution_count": 124,
   "metadata": {
    "scrolled": true
   },
   "outputs": [
    {
     "name": "stdout",
     "output_type": "stream",
     "text": [
      "_________________________________________________________________\n",
      "Layer (type)                 Output Shape              Param #   \n",
      "=================================================================\n",
      "dense_43 (Dense)             (None, 200)               1000200   \n",
      "_________________________________________________________________\n",
      "dense_44 (Dense)             (None, 400)               80400     \n",
      "_________________________________________________________________\n",
      "dropout_15 (Dropout)         (None, 400)               0         \n",
      "_________________________________________________________________\n",
      "dense_45 (Dense)             (None, 400)               160400    \n",
      "_________________________________________________________________\n",
      "dropout_16 (Dropout)         (None, 400)               0         \n",
      "_________________________________________________________________\n",
      "dense_46 (Dense)             (None, 400)               160400    \n",
      "_________________________________________________________________\n",
      "dense_47 (Dense)             (None, 400)               160400    \n",
      "_________________________________________________________________\n",
      "dense_48 (Dense)             (None, 3)                 1203      \n",
      "=================================================================\n",
      "Total params: 1,563,003\n",
      "Trainable params: 1,563,003\n",
      "Non-trainable params: 0\n",
      "_________________________________________________________________\n"
     ]
    }
   ],
   "source": [
    "from keras.models import Sequential\n",
    "from keras.layers import Dense\n",
    "from keras.layers import Dropout\n",
    "    \n",
    "model = Sequential()\n",
    " \n",
    "model.add(Dense(units=200, activation='relu', input_dim=len(vectorizer.get_feature_names())))\n",
    "model.add(Dense(units=400, activation='linear'))\n",
    "model.add(Dropout(0.2))\n",
    "model.add(Dense(units=400, activation='relu'))\n",
    "model.add(Dropout(0.2))\n",
    "model.add(Dense(units=400, activation='relu'))\n",
    "model.add(Dense(units=400, activation='relu'))\n",
    "model.add(Dense(units=3, activation='relu'))\n",
    " \n",
    "model.compile(loss='categorical_crossentropy', optimizer='adam', metrics=['categorical_accuracy'])\n",
    "model.summary()"
   ]
  },
  {
   "cell_type": "code",
   "execution_count": 125,
   "metadata": {},
   "outputs": [
    {
     "name": "stdout",
     "output_type": "stream",
     "text": [
      "Train on 32000 samples, validate on 8000 samples\n",
      "Epoch 1/10\n",
      "32000/32000 [==============================] - 2s 60us/step - loss: 2.0692 - categorical_accuracy: 0.5487 - val_loss: 2.0032 - val_categorical_accuracy: 0.5732\n",
      "Epoch 2/10\n",
      "32000/32000 [==============================] - 1s 40us/step - loss: 2.0326 - categorical_accuracy: 0.6283 - val_loss: 2.0036 - val_categorical_accuracy: 0.5702\n",
      "Epoch 3/10\n",
      "32000/32000 [==============================] - 1s 39us/step - loss: 1.9072 - categorical_accuracy: 0.7320 - val_loss: 2.1074 - val_categorical_accuracy: 0.5526\n",
      "Epoch 4/10\n",
      "32000/32000 [==============================] - 1s 40us/step - loss: 1.7637 - categorical_accuracy: 0.8263 - val_loss: 2.3698 - val_categorical_accuracy: 0.5586\n",
      "Epoch 5/10\n",
      "32000/32000 [==============================] - 1s 40us/step - loss: 1.6863 - categorical_accuracy: 0.8661 - val_loss: 4.8611 - val_categorical_accuracy: 0.5481\n",
      "Epoch 6/10\n",
      "32000/32000 [==============================] - 1s 40us/step - loss: 1.6405 - categorical_accuracy: 0.8828 - val_loss: 4.1802 - val_categorical_accuracy: 0.5486\n",
      "Epoch 7/10\n",
      "32000/32000 [==============================] - 1s 40us/step - loss: 1.6079 - categorical_accuracy: 0.8938 - val_loss: 5.5175 - val_categorical_accuracy: 0.5407\n",
      "Epoch 8/10\n",
      "32000/32000 [==============================] - 1s 40us/step - loss: 1.6240 - categorical_accuracy: 0.8854 - val_loss: 5.4511 - val_categorical_accuracy: 0.5446\n",
      "Epoch 9/10\n",
      "32000/32000 [==============================] - 1s 41us/step - loss: 1.5664 - categorical_accuracy: 0.8968 - val_loss: 6.1461 - val_categorical_accuracy: 0.5489\n",
      "Epoch 10/10\n",
      "32000/32000 [==============================] - 1s 40us/step - loss: 1.5666 - categorical_accuracy: 0.8970 - val_loss: 6.1240 - val_categorical_accuracy: 0.5461\n"
     ]
    },
    {
     "data": {
      "text/plain": [
       "<keras.callbacks.History at 0x187fe400ef0>"
      ]
     },
     "execution_count": 125,
     "metadata": {},
     "output_type": "execute_result"
    }
   ],
   "source": [
    "model.fit(X_train_onehot, y_train, \n",
    "          epochs=10, batch_size=1000, verbose=1, \n",
    "          validation_split=0.2)"
   ]
  },
  {
   "cell_type": "code",
   "execution_count": 126,
   "metadata": {},
   "outputs": [],
   "source": [
    "X_test_onehot = vectorizer.fit_transform(X_test)"
   ]
  },
  {
   "cell_type": "code",
   "execution_count": 127,
   "metadata": {},
   "outputs": [
    {
     "name": "stdout",
     "output_type": "stream",
     "text": [
      "10000/10000 [==============================] - 1s 63us/step\n",
      "Accuracy: ['loss', 'categorical_accuracy'] 7.5276925567626956 0.4861\n"
     ]
    }
   ],
   "source": [
    "scores = model.evaluate(X_test_onehot, y_test, verbose=1)\n",
    "print(\"Accuracy:\", model.metrics_names, scores[0], scores[1])"
   ]
  },
  {
   "cell_type": "markdown",
   "metadata": {},
   "source": [
    "###### Now let's examine the predictions of my model. First I example five sample data points, and then I plot all of my data vs. their predicted values."
   ]
  },
  {
   "cell_type": "code",
   "execution_count": 128,
   "metadata": {},
   "outputs": [
    {
     "data": {
      "text/plain": [
       "35958    As it turns out you can kill 400,000 civilians...\n",
       "32462    Two Faced<br/><br/>The plastic bag flies away....\n",
       "29993    One of Renee Fleming's best friends, the mezzo...\n",
       "34571    I know we are trying to see the dark side of g...\n",
       "21821    This article made me sick to my stomach. What ...\n",
       "Name: commentBody, dtype: object"
      ]
     },
     "execution_count": 128,
     "metadata": {},
     "output_type": "execute_result"
    }
   ],
   "source": [
    "X_train[:5]"
   ]
  },
  {
   "cell_type": "code",
   "execution_count": 129,
   "metadata": {},
   "outputs": [
    {
     "name": "stdout",
     "output_type": "stream",
     "text": [
      "[1 1 0 0 1 1 1 1 1 0 1 1 0 1 1 1 0 0 1 1 1 1 1 0 1 1 0 1 1 0 1 1 0 1 0 1 1\n",
      " 1 1 1 0 1 1 0 1 1 1 1 1 0 1 1 1 1 1 1 1 1 1 1 1 0 1 0 1 0 1 1 1 1 1 0 0 1\n",
      " 1 0 1 0 1 0 1 0 0 1 1 1 1 0 1 1 1 1 1 1 1 1 0 0 1 1]\n"
     ]
    }
   ],
   "source": [
    "prediction = model.predict(X_test_onehot)\n",
    "prediction_int = np.argmax(prediction[:100], axis=1)\n",
    "print(prediction_int)"
   ]
  },
  {
   "cell_type": "code",
   "execution_count": 130,
   "metadata": {},
   "outputs": [
    {
     "name": "stdout",
     "output_type": "stream",
     "text": [
      "[0 1 2 1 0 1 1 0 1 0 0 1 1 1 0 0 2 0 1 1 1 0 1 1 2 1 0 1 1 1 1 2 0 1 1 0 0\n",
      " 2 1 1 1 1 1 0 2 0 1 2 0 0 0 0 0 0 1 1 1 0 0 1 0 1 1 1 1 1 0 1 0 0 1 0 1 0\n",
      " 0 0 0 1 1 1 0 1 1 0 2 1 1 1 1 0 1 2 2 1 0 0 0 1 2 0]\n"
     ]
    }
   ],
   "source": [
    "y_test_int = np.argmax(y_test[:100], axis=1)\n",
    "print(y_test_int )"
   ]
  },
  {
   "cell_type": "code",
   "execution_count": 131,
   "metadata": {},
   "outputs": [
    {
     "name": "stdout",
     "output_type": "stream",
     "text": [
      "0.72\n",
      "0.73\n"
     ]
    }
   ],
   "source": [
    "#print(y_test_int.median())\n",
    "print(y_test_int.mean())\n",
    "print(prediction_int.mean())"
   ]
  },
  {
   "cell_type": "code",
   "execution_count": 132,
   "metadata": {},
   "outputs": [
    {
     "data": {
      "text/plain": [
       "Text(0.5, 1.0, 'Predictions')"
      ]
     },
     "execution_count": 132,
     "metadata": {},
     "output_type": "execute_result"
    },
    {
     "data": {
      "image/png": "[encoded data removed]",
      "text/plain": [
       "<Figure size 432x288 with 2 Axes>"
      ]
     },
     "metadata": {
      "needs_background": "light"
     },
     "output_type": "display_data"
    }
   ],
   "source": [
    "n_bins = 100\n",
    "\n",
    "# Generate a normal distribution, center at x=0 and y=5\n",
    "x = y_test_int\n",
    "y = prediction_int\n",
    "\n",
    "fig, axs = plt.subplots(1, 2, sharey=True, tight_layout=True)\n",
    "\n",
    "\n",
    "# We can set the number of bins with the `bins` kwarg\n",
    "axs[0].hist(x, bins=n_bins)\n",
    "#axs[0].set_yscale('log')\n",
    "axs[0].set_title('Actual values')\n",
    "axs[1].hist(y, bins=n_bins)\n",
    "#axs[1].set_yscale('log')\n",
    "axs[1].set_title('Predictions')"
   ]
  },
  {
   "cell_type": "markdown",
   "metadata": {},
   "source": [
    "### Here I try to use Transfer Learning with spaCy embeddings"
   ]
  },
  {
   "cell_type": "code",
   "execution_count": null,
   "metadata": {},
   "outputs": [],
   "source": [
    "import os\n",
    "\n",
    "#cwd = os.getcwd()  # Get the current working directory (cwd)\n",
    "GLOVE_PATH = r'C:\\Users\\msteele9\\Documents\\Springboard'\n",
    "os.chdir(GLOVE_PATH)\n",
    "\n",
    "cwd = os.getcwd()\n",
    "\n",
    "print(cwd)\n",
    "\n",
    "files = os.listdir(cwd)  # Get all the files in that directory\n",
    "print(\"Files in %r: %s\" % (cwd, files))"
   ]
  },
  {
   "cell_type": "code",
   "execution_count": null,
   "metadata": {
    "scrolled": true
   },
   "outputs": [],
   "source": [
    "word2idx = {word: idx for idx, word in enumerate(vectorizer.get_feature_names())}\n",
    "\n",
    "import numpy as np\n",
    "\n",
    "import os\n",
    "cwd = os.getcwd()\n",
    "\n",
    "GLOVE_PATH = r'C:\\Users\\msteele9\\Documents\\Springboard/glove.twitter.27B.25d.txt'\n",
    "GLOVE_VECTOR_LENGHT = 25\n",
    " \n",
    "def read_glove_vectors(path, lenght):\n",
    "    embeddings = {}\n",
    "    with open(path, encoding=\"utf-8\") as glove_f:\n",
    "        for line in glove_f:\n",
    "            chunks = line.split()\n",
    "            #assert len(chunks) == lenght + 1\n",
    "            embeddings[chunks[0]] = np.array(chunks[1:], dtype='float32')\n",
    " \n",
    "    return embeddings\n",
    " \n",
    "GLOVE_INDEX = read_glove_vectors(GLOVE_PATH, GLOVE_VECTOR_LENGHT)\n",
    " \n",
    "# Init the embeddings layer with GloVe embeddings\n",
    "embeddings_index = np.zeros((len(vectorizer.get_feature_names()) + 1, GLOVE_VECTOR_LENGHT))\n",
    "for word, idx in word2idx.items():\n",
    "    try:\n",
    "        embedding = GLOVE_INDEX[word]\n",
    "        embeddings_index[idx] = embedding\n",
    "    except:\n",
    "        pass"
   ]
  },
  {
   "cell_type": "code",
   "execution_count": null,
   "metadata": {},
   "outputs": [],
   "source": [
    "from keras.models import Sequential\n",
    "from keras.layers import Dense, LSTM, Embedding\n",
    "from keras.layers import Dropout\n",
    "    \n",
    "model = Sequential()\n",
    " \n",
    "model.add(Embedding(len(vectorizer.get_feature_names()) + 1,\n",
    "                    GLOVE_VECTOR_LENGHT,  # Embedding size\n",
    "                    weights=[embeddings_index],\n",
    "                    #input_length=MAX_SEQ_LENGHT,\n",
    "                    trainable=False))\n",
    "model.add(LSTM(128))\n",
    "\n",
    "model.add(Dense(units=400, activation='relu'))\n",
    "\n",
    "model.add(Dense(units=1, activation='relu'))\n",
    " \n",
    "model.compile(loss='mean_squared_logarithmic_error', optimizer='adam', metrics=[myAccuracy])\n",
    "model.summary()"
   ]
  },
  {
   "cell_type": "code",
   "execution_count": null,
   "metadata": {},
   "outputs": [],
   "source": [
    "model.fit(X_train_onehot, y_train, \n",
    "          epochs=3, batch_size=128, verbose=1, \n",
    "          validation_data=(X_test_onehot, y_test))\n",
    " \n",
    "scores = model.evaluate(X_test_onehot, y_test, verbose=1)\n",
    "print(\"Accuracy:\", scores[1])  # 0.8296"
   ]
  },
  {
   "cell_type": "code",
   "execution_count": null,
   "metadata": {},
   "outputs": [],
   "source": []
  }
 ],
 "metadata": {
  "kernelspec": {
   "display_name": "Python 3",
   "language": "python",
   "name": "python3"
  },
  "language_info": {
   "codemirror_mode": {
    "name": "ipython",
    "version": 3
   },
   "file_extension": ".py",
   "mimetype": "text/x-python",
   "name": "python",
   "nbconvert_exporter": "python",
   "pygments_lexer": "ipython3",
   "version": "3.6.7"
  }
 },
 "nbformat": 4,
 "nbformat_minor": 2
}

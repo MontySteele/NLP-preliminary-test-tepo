{
 "cells": [
  {
   "cell_type": "markdown",
   "metadata": {},
   "source": [
    "### This notebook loads in the model that was trained in my 'DL_categorical-fastai' notebook. I have created a 'predictor' function which will make predictions of the number of likes that your comment will receive based on the text provided, and show examples of calling this function below."
   ]
  },
  {
   "cell_type": "code",
   "execution_count": 8,
   "metadata": {},
   "outputs": [],
   "source": [
    "from fastai.text import *\n",
    "from fastai.basics import *\n",
    "\n",
    "path = r'C:\\Users\\msteele9\\Documents\\Springboard\\Springboard\\Notebooks'\n",
    "learn = load_learner(path, 'trained_model.pkl')"
   ]
  },
  {
   "cell_type": "code",
   "execution_count": 9,
   "metadata": {},
   "outputs": [],
   "source": [
    "def predictor(test_comment):\n",
    "    \n",
    "    bin = [-1, 1, 5, 1000000]\n",
    "    \n",
    "    cat, tensor, probs = learn.predict(test_comment)\n",
    "    print(probs)\n",
    "    \n",
    "    category = str(cat)\n",
    "    leftBin = str(bin[int(str(cat))])\n",
    "    rightBin = str(bin[int(str(cat))+1])\n",
    "    \n",
    "    print('This comment was placed in category ' + category + '. This means that we predict your comment will have between ' + leftBin + ' and ' + rightBin + ' recommendations.')"
   ]
  },
  {
   "cell_type": "code",
   "execution_count": 14,
   "metadata": {},
   "outputs": [
    {
     "name": "stderr",
     "output_type": "stream",
     "text": [
      "C:\\Users\\msteele9\\AppData\\Local\\Continuum\\anaconda3_reinstall\\envs\\fastai_v1\\lib\\site-packages\\fastai\\torch_core.py:83: UserWarning: Tensor is int32: upgrading to int64; for better performance use int64 input\n",
      "  warn('Tensor is int32: upgrading to int64; for better performance use int64 input')\n"
     ]
    },
    {
     "name": "stdout",
     "output_type": "stream",
     "text": [
      "tensor([0.3078, 0.2850, 0.4072])\n",
      "This comment was placed in category 2. This means that we predict your comment will have between 5 and 1000000 recommendations.\n"
     ]
    }
   ],
   "source": [
    "predictor(\"This is a test of the emergency comment system that was placed in category 2 \")"
   ]
  },
  {
   "cell_type": "code",
   "execution_count": 15,
   "metadata": {},
   "outputs": [
    {
     "name": "stderr",
     "output_type": "stream",
     "text": [
      "C:\\Users\\msteele9\\AppData\\Local\\Continuum\\anaconda3_reinstall\\envs\\fastai_v1\\lib\\site-packages\\fastai\\torch_core.py:83: UserWarning: Tensor is int32: upgrading to int64; for better performance use int64 input\n",
      "  warn('Tensor is int32: upgrading to int64; for better performance use int64 input')\n"
     ]
    },
    {
     "name": "stdout",
     "output_type": "stream",
     "text": [
      "tensor([0.5353, 0.2976, 0.1672])\n",
      "This comment was placed in category 0. This means that we predict your comment will have between -1 and 1 recommendations.\n"
     ]
    }
   ],
   "source": [
    "predictor(\"Category 0\")"
   ]
  },
  {
   "cell_type": "code",
   "execution_count": 16,
   "metadata": {},
   "outputs": [
    {
     "name": "stderr",
     "output_type": "stream",
     "text": [
      "C:\\Users\\msteele9\\AppData\\Local\\Continuum\\anaconda3_reinstall\\envs\\fastai_v1\\lib\\site-packages\\fastai\\torch_core.py:83: UserWarning: Tensor is int32: upgrading to int64; for better performance use int64 input\n",
      "  warn('Tensor is int32: upgrading to int64; for better performance use int64 input')\n"
     ]
    },
    {
     "name": "stdout",
     "output_type": "stream",
     "text": [
      "tensor([0.4829, 0.2970, 0.2201])\n",
      "This comment was placed in category 0. This means that we predict your comment will have between -1 and 1 recommendations.\n"
     ]
    }
   ],
   "source": [
    "predictor(\"Your text here!\")"
   ]
  },
  {
   "cell_type": "code",
   "execution_count": null,
   "metadata": {},
   "outputs": [],
   "source": []
  }
 ],
 "metadata": {
  "kernelspec": {
   "display_name": "Python [conda env:fastai_v1] *",
   "language": "python",
   "name": "conda-env-fastai_v1-py"
  },
  "language_info": {
   "codemirror_mode": {
    "name": "ipython",
    "version": 3
   },
   "file_extension": ".py",
   "mimetype": "text/x-python",
   "name": "python",
   "nbconvert_exporter": "python",
   "pygments_lexer": "ipython3",
   "version": "3.6.9"
  }
 },
 "nbformat": 4,
 "nbformat_minor": 2
}

{
 "cells": [
  {
   "cell_type": "markdown",
   "metadata": {},
   "source": [
    "###### In this notebook I attempt to fit my data using a neural network with the keras library. I import my cleaned data, perform a train-test split, make a simple neural network and build my model. Then I compare the predictions of my model with the actual results of my model to see if I can find issues in the predictions."
   ]
  },
  {
   "cell_type": "code",
   "execution_count": 23,
   "metadata": {},
   "outputs": [],
   "source": [
    "import pandas as pd\n",
    "import numpy as np\n",
    "import nltk\n",
    "import re\n",
    "sent_token = nltk.sent_tokenize\n",
    "import csv  \n",
    "from nltk import sent_tokenize, word_tokenize, pos_tag\n",
    "import re\n",
    "from sklearn.feature_extraction.text import CountVectorizer\n",
    "wpt = nltk.WordPunctTokenizer()\n",
    "\n",
    "\n",
    "file_path_comments = r'~/Documents/Springboard/Springboard/Data/cleaned_comment_data.csv'\n",
    "\n",
    "#file_path_comments = r'/mnt/c/Users/msteele9/Documents/Springboard/Springboard/Data/cleaned_comment_data.csv'\n",
    "clean_comments = pd.read_csv(file_path_comments, index_col = False)"
   ]
  },
  {
   "cell_type": "code",
   "execution_count": 24,
   "metadata": {},
   "outputs": [],
   "source": [
    "from sklearn.model_selection import train_test_split\n",
    "import random\n",
    "from datetime import datetime\n",
    "\n",
    "X = clean_comments['commentBody']\n",
    "y = clean_comments['recommendations']\n",
    "\n",
    "X_train, X_test, y_train, y_test = train_test_split(\n",
    "    X, y, test_size=0.2, random_state=random.seed(datetime.now()))"
   ]
  },
  {
   "cell_type": "code",
   "execution_count": 25,
   "metadata": {},
   "outputs": [],
   "source": [
    "from sklearn.feature_extraction.text import CountVectorizer\n",
    "from nltk.corpus import stopwords\n",
    " \n",
    "vectorizer = CountVectorizer(binary=False, stop_words=stopwords.words('english'), \n",
    "                             lowercase=True, min_df=1, max_df=0.9, max_features=5000)\n",
    "X_train_onehot = vectorizer.fit_transform(X_train)"
   ]
  },
  {
   "cell_type": "code",
   "execution_count": 69,
   "metadata": {
    "scrolled": true
   },
   "outputs": [
    {
     "name": "stdout",
     "output_type": "stream",
     "text": [
      "_________________________________________________________________\n",
      "Layer (type)                 Output Shape              Param #   \n",
      "=================================================================\n",
      "dense_17 (Dense)             (None, 500)               2500500   \n",
      "_________________________________________________________________\n",
      "dense_18 (Dense)             (None, 400)               200400    \n",
      "_________________________________________________________________\n",
      "dense_19 (Dense)             (None, 1)                 401       \n",
      "=================================================================\n",
      "Total params: 2,701,301\n",
      "Trainable params: 2,701,301\n",
      "Non-trainable params: 0\n",
      "_________________________________________________________________\n"
     ]
    }
   ],
   "source": [
    "from keras.models import Sequential\n",
    "from keras.layers import Dense\n",
    " \n",
    "model = Sequential()\n",
    " \n",
    "model.add(Dense(units=500, activation='tanh', input_dim=len(vectorizer.get_feature_names())))\n",
    "\n",
    "model.add(Dense(units=400, activation='relu'))\n",
    "\n",
    "model.add(Dense(units=1, activation='relu'))\n",
    " \n",
    "model.compile(loss='mean_squared_error', optimizer='adam', metrics=['accuracy'])\n",
    "model.summary()"
   ]
  },
  {
   "cell_type": "code",
   "execution_count": 70,
   "metadata": {},
   "outputs": [
    {
     "name": "stdout",
     "output_type": "stream",
     "text": [
      "Train on 32000 samples, validate on 8000 samples\n",
      "Epoch 1/10\n",
      "32000/32000 [==============================] - 2s 52us/step - loss: 8605.2684 - acc: 0.0747 - val_loss: 9124.0113 - val_acc: 0.0673\n",
      "Epoch 2/10\n",
      "32000/32000 [==============================] - 1s 38us/step - loss: 8161.9542 - acc: 0.1004 - val_loss: 9255.7255 - val_acc: 0.1366\n",
      "Epoch 3/10\n",
      "32000/32000 [==============================] - 1s 38us/step - loss: 7302.0696 - acc: 0.1634 - val_loss: 9593.5923 - val_acc: 0.0948\n",
      "Epoch 4/10\n",
      "32000/32000 [==============================] - 1s 38us/step - loss: 5922.4297 - acc: 0.0805 - val_loss: 10324.6375 - val_acc: 0.0888\n",
      "Epoch 5/10\n",
      "32000/32000 [==============================] - 1s 38us/step - loss: 4421.9590 - acc: 0.0851 - val_loss: 10194.3031 - val_acc: 0.0716\n",
      "Epoch 6/10\n",
      "32000/32000 [==============================] - 1s 39us/step - loss: 3420.5595 - acc: 0.0858 - val_loss: 11090.9104 - val_acc: 0.0786\n",
      "Epoch 7/10\n",
      "32000/32000 [==============================] - 1s 39us/step - loss: 2930.2457 - acc: 0.0850 - val_loss: 10381.8279 - val_acc: 0.0806\n",
      "Epoch 8/10\n",
      "32000/32000 [==============================] - 1s 39us/step - loss: 2755.8567 - acc: 0.0978 - val_loss: 11463.8992 - val_acc: 0.1023\n",
      "Epoch 9/10\n",
      "32000/32000 [==============================] - 1s 40us/step - loss: 2597.5119 - acc: 0.1116 - val_loss: 11034.6705 - val_acc: 0.1230\n",
      "Epoch 10/10\n",
      "32000/32000 [==============================] - 1s 42us/step - loss: 2532.2940 - acc: 0.1399 - val_loss: 11348.2198 - val_acc: 0.1604\n"
     ]
    },
    {
     "data": {
      "text/plain": [
       "<keras.callbacks.History at 0x150b78f0828>"
      ]
     },
     "execution_count": 70,
     "metadata": {},
     "output_type": "execute_result"
    }
   ],
   "source": [
    "model.fit(X_train_onehot, y_train, \n",
    "          epochs=10, batch_size=1000, verbose=1, \n",
    "          validation_split=0.2)"
   ]
  },
  {
   "cell_type": "code",
   "execution_count": 71,
   "metadata": {},
   "outputs": [],
   "source": [
    "X_test_onehot = vectorizer.fit_transform(X_test)"
   ]
  },
  {
   "cell_type": "code",
   "execution_count": 72,
   "metadata": {},
   "outputs": [
    {
     "name": "stdout",
     "output_type": "stream",
     "text": [
      "10000/10000 [==============================] - 1s 54us/step\n",
      "Accuracy: ['loss', 'acc'] 7864.382170812988 0.2005\n"
     ]
    }
   ],
   "source": [
    "scores = model.evaluate(X_test_onehot, y_test, verbose=1)\n",
    "print(\"Accuracy:\", model.metrics_names, scores[0], scores[1])"
   ]
  },
  {
   "cell_type": "markdown",
   "metadata": {},
   "source": [
    "###### Now let's examine the predictions of my model. First I example five sample data points, and then I plot all of my data vs. their predicted values."
   ]
  },
  {
   "cell_type": "code",
   "execution_count": 73,
   "metadata": {},
   "outputs": [
    {
     "data": {
      "text/plain": [
       "47379    I still have my doubts that President Assad us...\n",
       "36553    And what did Obama do about Syria and Assad......\n",
       "14178    And what evidence, Elizabeth, did Todd G. cite...\n",
       "8568     This Homeland season for me  is  probably my f...\n",
       "36666    \"Ms. Chao........ “saddling future generations...\n",
       "Name: commentBody, dtype: object"
      ]
     },
     "execution_count": 73,
     "metadata": {},
     "output_type": "execute_result"
    }
   ],
   "source": [
    "X_train[:5]"
   ]
  },
  {
   "cell_type": "code",
   "execution_count": 74,
   "metadata": {},
   "outputs": [
    {
     "name": "stdout",
     "output_type": "stream",
     "text": [
      "[[0.       ]\n",
      " [0.       ]\n",
      " [1.7339303]\n",
      " [0.       ]\n",
      " [0.       ]]\n"
     ]
    }
   ],
   "source": [
    "prediction = model.predict(X_test_onehot)\n",
    "print((prediction[:5]))"
   ]
  },
  {
   "cell_type": "code",
   "execution_count": 75,
   "metadata": {},
   "outputs": [
    {
     "name": "stdout",
     "output_type": "stream",
     "text": [
      "30800    0.0\n",
      "5605     9.0\n",
      "29016    0.0\n",
      "28353    2.0\n",
      "18366    4.0\n",
      "Name: recommendations, dtype: float64\n"
     ]
    }
   ],
   "source": [
    "print(y_test.head(5))"
   ]
  },
  {
   "cell_type": "code",
   "execution_count": 76,
   "metadata": {},
   "outputs": [
    {
     "data": {
      "image/png": "[encoded data removed]",
      "text/plain": [
       "<Figure size 432x288 with 1 Axes>"
      ]
     },
     "metadata": {
      "needs_background": "light"
     },
     "output_type": "display_data"
    }
   ],
   "source": [
    "import matplotlib.pyplot as plt\n",
    "\n",
    "# Plot\n",
    "plt.scatter(y_test, prediction, alpha=0.5)\n",
    "plt.title('Actual values vs. predictions')\n",
    "plt.xlabel('Actual values')\n",
    "plt.ylabel('predictions')\n",
    "\n",
    "axes = plt.gca()\n",
    "axes.set_xlim([0,1000])\n",
    "axes.set_ylim([0,1000])\n",
    "#axes.set_xscale('log')\n",
    "\n",
    "plt.show()"
   ]
  },
  {
   "cell_type": "code",
   "execution_count": 77,
   "metadata": {},
   "outputs": [
    {
     "name": "stdout",
     "output_type": "stream",
     "text": [
      "3.0\n",
      "16.1987\n",
      "4.535307\n"
     ]
    }
   ],
   "source": [
    "print(y_test.median())\n",
    "print(y_test.mean())\n",
    "print(prediction.mean())"
   ]
  },
  {
   "cell_type": "code",
   "execution_count": 78,
   "metadata": {},
   "outputs": [
    {
     "data": {
      "text/plain": [
       "Text(0.5, 1.0, 'Predictions')"
      ]
     },
     "execution_count": 78,
     "metadata": {},
     "output_type": "execute_result"
    },
    {
     "data": {
      "image/png": "[encoded data removed]",
      "text/plain": [
       "<Figure size 432x288 with 2 Axes>"
      ]
     },
     "metadata": {
      "needs_background": "light"
     },
     "output_type": "display_data"
    }
   ],
   "source": [
    "n_bins = 100\n",
    "\n",
    "# Generate a normal distribution, center at x=0 and y=5\n",
    "x = y_test\n",
    "y = prediction\n",
    "\n",
    "fig, axs = plt.subplots(1, 2, sharey=True, tight_layout=True)\n",
    "\n",
    "\n",
    "# We can set the number of bins with the `bins` kwarg\n",
    "axs[0].hist(x, bins=n_bins)\n",
    "axs[0].set_yscale('log')\n",
    "axs[0].set_title('Actual values')\n",
    "axs[1].hist(y, bins=n_bins)\n",
    "axs[1].set_yscale('log')\n",
    "axs[0].set_title('Predictions')"
   ]
  },
  {
   "cell_type": "markdown",
   "metadata": {},
   "source": [
    "It seems that our predictions fall within a range of 0 - 200, while the actual data runs from 0 - 1000 with a long tail. "
   ]
  },
  {
   "cell_type": "code",
   "execution_count": null,
   "metadata": {},
   "outputs": [],
   "source": []
  },
  {
   "cell_type": "code",
   "execution_count": null,
   "metadata": {},
   "outputs": [],
   "source": []
  }
 ],
 "metadata": {
  "kernelspec": {
   "display_name": "Python 3",
   "language": "python",
   "name": "python3"
  },
  "language_info": {
   "codemirror_mode": {
    "name": "ipython",
    "version": 3
   },
   "file_extension": ".py",
   "mimetype": "text/x-python",
   "name": "python",
   "nbconvert_exporter": "python",
   "pygments_lexer": "ipython3",
   "version": "3.6.7"
  }
 },
 "nbformat": 4,
 "nbformat_minor": 2
}

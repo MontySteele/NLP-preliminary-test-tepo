{
 "cells": [
  {
   "cell_type": "markdown",
   "metadata": {},
   "source": [
    "###### In this notebook I attempt to fit my data using a neural network with the keras library. I import my cleaned data, perform a train-test split, make a simple neural network and build my model. Then I compare the predictions of my model with the actual results of my model to see if I can find issues in the predictions."
   ]
  },
  {
   "cell_type": "code",
   "execution_count": 523,
   "metadata": {},
   "outputs": [],
   "source": [
    "import pandas as pd\n",
    "import numpy as np\n",
    "import nltk\n",
    "import re\n",
    "sent_token = nltk.sent_tokenize\n",
    "import csv  \n",
    "from nltk import sent_tokenize, word_tokenize, pos_tag\n",
    "import re\n",
    "from sklearn.feature_extraction.text import CountVectorizer\n",
    "wpt = nltk.WordPunctTokenizer()\n",
    "\n",
    "\n",
    "file_path_comments = r'~/Documents/Springboard/Springboard/Data/cleaned_comment_data.csv'\n",
    "\n",
    "#file_path_comments = r'/mnt/c/Users/msteele9/Documents/Springboard/Springboard/Data/cleaned_comment_data.csv'\n",
    "clean_comments = pd.read_csv(file_path_comments, index_col = False)"
   ]
  },
  {
   "cell_type": "code",
   "execution_count": 524,
   "metadata": {},
   "outputs": [],
   "source": [
    "from sklearn.model_selection import train_test_split\n",
    "import random\n",
    "from datetime import datetime\n",
    "\n",
    "X = clean_comments['commentBody']\n",
    "y = clean_comments['recommendations']\n",
    "\n",
    "X_train, X_test, y_train, y_test = train_test_split(\n",
    "    X, y, test_size=0.2, random_state=random.seed(datetime.now()))"
   ]
  },
  {
   "cell_type": "code",
   "execution_count": 525,
   "metadata": {},
   "outputs": [],
   "source": [
    "from sklearn.feature_extraction.text import CountVectorizer\n",
    "from nltk.corpus import stopwords\n",
    " \n",
    "vectorizer = CountVectorizer(binary=False, stop_words=stopwords.words('english'), \n",
    "                             lowercase=True, min_df=1, max_df=0.9, max_features=5000)\n",
    "X_train_onehot = vectorizer.fit_transform(X_train)"
   ]
  },
  {
   "cell_type": "code",
   "execution_count": 526,
   "metadata": {
    "scrolled": true
   },
   "outputs": [
    {
     "name": "stdout",
     "output_type": "stream",
     "text": [
      "_________________________________________________________________\n",
      "Layer (type)                 Output Shape              Param #   \n",
      "=================================================================\n",
      "dense_162 (Dense)            (None, 500)               2500500   \n",
      "_________________________________________________________________\n",
      "dense_163 (Dense)            (None, 400)               200400    \n",
      "_________________________________________________________________\n",
      "dense_164 (Dense)            (None, 1)                 401       \n",
      "=================================================================\n",
      "Total params: 2,701,301\n",
      "Trainable params: 2,701,301\n",
      "Non-trainable params: 0\n",
      "_________________________________________________________________\n"
     ]
    }
   ],
   "source": [
    "from keras.models import Sequential\n",
    "from keras.layers import Dense\n",
    " \n",
    "model = Sequential()\n",
    " \n",
    "model.add(Dense(units=500, activation='tanh', input_dim=len(vectorizer.get_feature_names())))\n",
    "\n",
    "model.add(Dense(units=400, activation='relu'))\n",
    "\n",
    "model.add(Dense(units=1, activation='relu'))\n",
    " \n",
    "model.compile(loss='mean_absolute_error', optimizer='adam', metrics=['accuracy'])\n",
    "model.summary()"
   ]
  },
  {
   "cell_type": "code",
   "execution_count": 527,
   "metadata": {},
   "outputs": [
    {
     "name": "stdout",
     "output_type": "stream",
     "text": [
      "Train on 32000 samples, validate on 8000 samples\n",
      "Epoch 1/10\n",
      "32000/32000 [==============================] - 3s 80us/step - loss: 16.3029 - acc: 0.1520 - val_loss: 16.5413 - val_acc: 0.1335\n",
      "Epoch 2/10\n",
      "32000/32000 [==============================] - 1s 39us/step - loss: 15.8687 - acc: 0.1467 - val_loss: 16.5299 - val_acc: 0.1315\n",
      "Epoch 3/10\n",
      "32000/32000 [==============================] - 1s 39us/step - loss: 15.6652 - acc: 0.1659 - val_loss: 16.6068 - val_acc: 0.1367\n",
      "Epoch 4/10\n",
      "32000/32000 [==============================] - 1s 40us/step - loss: 15.5054 - acc: 0.1789 - val_loss: 16.6603 - val_acc: 0.1439\n",
      "Epoch 5/10\n",
      "32000/32000 [==============================] - 1s 40us/step - loss: 15.3297 - acc: 0.1886 - val_loss: 16.7730 - val_acc: 0.1469\n",
      "Epoch 6/10\n",
      "32000/32000 [==============================] - 1s 43us/step - loss: 15.1274 - acc: 0.2023 - val_loss: 16.8848 - val_acc: 0.1401\n",
      "Epoch 7/10\n",
      "32000/32000 [==============================] - 1s 40us/step - loss: 14.9081 - acc: 0.2172 - val_loss: 16.9527 - val_acc: 0.1456\n",
      "Epoch 8/10\n",
      "32000/32000 [==============================] - 1s 40us/step - loss: 14.7145 - acc: 0.2253 - val_loss: 17.1353 - val_acc: 0.1423\n",
      "Epoch 9/10\n",
      "32000/32000 [==============================] - 1s 40us/step - loss: 14.4697 - acc: 0.2342 - val_loss: 17.2841 - val_acc: 0.1486\n",
      "Epoch 10/10\n",
      "32000/32000 [==============================] - 1s 41us/step - loss: 14.2162 - acc: 0.2476 - val_loss: 17.3829 - val_acc: 0.1480\n"
     ]
    },
    {
     "data": {
      "text/plain": [
       "<keras.callbacks.History at 0x29c31af7ac8>"
      ]
     },
     "execution_count": 527,
     "metadata": {},
     "output_type": "execute_result"
    }
   ],
   "source": [
    "model.fit(X_train_onehot, y_train, \n",
    "          epochs=10, batch_size=1000, verbose=1, \n",
    "          validation_split=0.2)"
   ]
  },
  {
   "cell_type": "code",
   "execution_count": 528,
   "metadata": {},
   "outputs": [],
   "source": [
    "X_test_onehot = vectorizer.fit_transform(X_test)"
   ]
  },
  {
   "cell_type": "code",
   "execution_count": 529,
   "metadata": {},
   "outputs": [
    {
     "name": "stdout",
     "output_type": "stream",
     "text": [
      "10000/10000 [==============================] - 1s 83us/step\n",
      "Accuracy: ['loss', 'acc'] 18.89034759063721 0.1273\n"
     ]
    }
   ],
   "source": [
    "scores = model.evaluate(X_test_onehot, y_test, verbose=1)\n",
    "print(\"Accuracy:\", model.metrics_names, scores[0], scores[1])"
   ]
  },
  {
   "cell_type": "markdown",
   "metadata": {},
   "source": [
    "###### Now let's examine the predictions of my model. First I example five sample data points, and then I plot all of my data vs. their predicted values."
   ]
  },
  {
   "cell_type": "code",
   "execution_count": 517,
   "metadata": {},
   "outputs": [
    {
     "data": {
      "text/plain": [
       "13885    I'm sorry for you, sir. The truth is that YOU ...\n",
       "624      \"They are, without a doubt, the dumbest people...\n",
       "8640     Wasn't Max's unrequited love for Fara, who was...\n",
       "3451     That sound you hear is my mind fracturing as I...\n",
       "38457    Hate never works.  People voted for Trump beca...\n",
       "Name: commentBody, dtype: object"
      ]
     },
     "execution_count": 517,
     "metadata": {},
     "output_type": "execute_result"
    }
   ],
   "source": [
    "X_train[:5]"
   ]
  },
  {
   "cell_type": "code",
   "execution_count": 518,
   "metadata": {},
   "outputs": [
    {
     "name": "stdout",
     "output_type": "stream",
     "text": [
      "[[22.965578 ]\n",
      " [ 3.2727158]\n",
      " [ 0.8563916]\n",
      " [ 7.136145 ]\n",
      " [13.958315 ]]\n"
     ]
    }
   ],
   "source": [
    "prediction = model.predict(X_test_onehot)\n",
    "print((prediction[:5]))"
   ]
  },
  {
   "cell_type": "code",
   "execution_count": 519,
   "metadata": {},
   "outputs": [
    {
     "name": "stdout",
     "output_type": "stream",
     "text": [
      "23135     2.0\n",
      "49775    12.0\n",
      "5660      3.0\n",
      "33401    10.0\n",
      "5284      1.0\n",
      "Name: recommendations, dtype: float64\n"
     ]
    }
   ],
   "source": [
    "print(y_test.head(5))"
   ]
  },
  {
   "cell_type": "code",
   "execution_count": 520,
   "metadata": {},
   "outputs": [
    {
     "data": {
      "image/png": "[encoded data removed]",
      "text/plain": [
       "<Figure size 432x288 with 1 Axes>"
      ]
     },
     "metadata": {
      "needs_background": "light"
     },
     "output_type": "display_data"
    }
   ],
   "source": [
    "import matplotlib.pyplot as plt\n",
    "\n",
    "# Plot\n",
    "plt.scatter(y_test, prediction, alpha=0.5)\n",
    "plt.title('Actual values vs. predictions')\n",
    "plt.xlabel('Actual values')\n",
    "plt.ylabel('predictions')\n",
    "\n",
    "axes = plt.gca()\n",
    "axes.set_xlim([0,1000])\n",
    "axes.set_ylim([0,1000])\n",
    "#axes.set_xscale('log')\n",
    "\n",
    "plt.show()"
   ]
  },
  {
   "cell_type": "code",
   "execution_count": 521,
   "metadata": {},
   "outputs": [
    {
     "name": "stdout",
     "output_type": "stream",
     "text": [
      "3.0\n",
      "16.0253\n",
      "6.2979765\n"
     ]
    }
   ],
   "source": [
    "print(y_test.median())\n",
    "print(y_test.mean())\n",
    "print(prediction.mean())"
   ]
  },
  {
   "cell_type": "code",
   "execution_count": 522,
   "metadata": {},
   "outputs": [
    {
     "data": {
      "text/plain": [
       "Text(0.5, 1.0, 'Predictions')"
      ]
     },
     "execution_count": 522,
     "metadata": {},
     "output_type": "execute_result"
    },
    {
     "data": {
      "image/png": "[encoded data removed]",
      "text/plain": [
       "<Figure size 432x288 with 2 Axes>"
      ]
     },
     "metadata": {
      "needs_background": "light"
     },
     "output_type": "display_data"
    }
   ],
   "source": [
    "n_bins = 100\n",
    "\n",
    "# Generate a normal distribution, center at x=0 and y=5\n",
    "x = y_test\n",
    "y = prediction\n",
    "\n",
    "fig, axs = plt.subplots(1, 2, sharey=True, tight_layout=True)\n",
    "\n",
    "\n",
    "# We can set the number of bins with the `bins` kwarg\n",
    "axs[0].hist(x, bins=n_bins)\n",
    "axs[0].set_yscale('log')\n",
    "axs[0].set_title('Actual values')\n",
    "axs[1].hist(y, bins=n_bins)\n",
    "axs[1].set_yscale('log')\n",
    "axs[0].set_title('Predictions')"
   ]
  },
  {
   "cell_type": "markdown",
   "metadata": {},
   "source": [
    "It seems that our predictions fall within a range of 0 - 200, while the actual data runs from 0 - 1000 with a long tail. "
   ]
  },
  {
   "cell_type": "code",
   "execution_count": null,
   "metadata": {},
   "outputs": [],
   "source": []
  }
 ],
 "metadata": {
  "kernelspec": {
   "display_name": "Python 3",
   "language": "python",
   "name": "python3"
  },
  "language_info": {
   "codemirror_mode": {
    "name": "ipython",
    "version": 3
   },
   "file_extension": ".py",
   "mimetype": "text/x-python",
   "name": "python",
   "nbconvert_exporter": "python",
   "pygments_lexer": "ipython3",
   "version": "3.6.7"
  }
 },
 "nbformat": 4,
 "nbformat_minor": 2
}

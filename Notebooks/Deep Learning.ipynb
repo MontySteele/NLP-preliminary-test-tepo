{
 "cells": [
  {
   "cell_type": "markdown",
   "metadata": {},
   "source": [
    "###### In this notebook I attempt to fit my data using a neural network with the keras library. I import my cleaned data, perform a train-test split, make a simple neural network and build my model. Then I compare the predictions of my model with the actual results of my model to see if I can find issues in the predictions."
   ]
  },
  {
   "cell_type": "code",
   "execution_count": 1,
   "metadata": {},
   "outputs": [],
   "source": [
    "import pandas as pd\n",
    "import numpy as np\n",
    "import nltk\n",
    "import re\n",
    "sent_token = nltk.sent_tokenize\n",
    "import csv  \n",
    "from nltk import sent_tokenize, word_tokenize, pos_tag\n",
    "import re\n",
    "from sklearn.feature_extraction.text import CountVectorizer\n",
    "wpt = nltk.WordPunctTokenizer()\n",
    "\n",
    "\n",
    "file_path_comments = r'~/Documents/Springboard/Springboard/Data/cleaned_comment_data.csv'\n",
    "\n",
    "#file_path_comments = r'/mnt/c/Users/msteele9/Documents/Springboard/Springboard/Data/cleaned_comment_data.csv'\n",
    "clean_comments = pd.read_csv(file_path_comments, index_col = False)"
   ]
  },
  {
   "cell_type": "code",
   "execution_count": 2,
   "metadata": {},
   "outputs": [],
   "source": [
    "from sklearn.model_selection import train_test_split\n",
    "import random\n",
    "from datetime import datetime\n",
    "\n",
    "X = clean_comments['commentBody']\n",
    "y = clean_comments['recommendations']\n",
    "\n",
    "X_train, X_test, y_train, y_test = train_test_split(\n",
    "    X, y, test_size=0.2, random_state=random.seed(datetime.now()))"
   ]
  },
  {
   "cell_type": "code",
   "execution_count": 3,
   "metadata": {},
   "outputs": [],
   "source": [
    "from sklearn.feature_extraction.text import CountVectorizer\n",
    "from nltk.corpus import stopwords\n",
    " \n",
    "vectorizer = CountVectorizer(binary=False, stop_words=stopwords.words('english'), \n",
    "                             lowercase=True, min_df=1, max_df=0.9, max_features=5000)\n",
    "X_train_onehot = vectorizer.fit_transform(X_train)"
   ]
  },
  {
   "cell_type": "markdown",
   "metadata": {},
   "source": [
    "### Here I create a custom accuracy function to define what a 'correct' output looks like. Here I say that my model is successful if it is within ~10% of the correct value."
   ]
  },
  {
   "cell_type": "code",
   "execution_count": 4,
   "metadata": {},
   "outputs": [
    {
     "name": "stderr",
     "output_type": "stream",
     "text": [
      "Using TensorFlow backend.\n",
      "C:\\Users\\msteele9\\AppData\\Local\\Programs\\Python\\Python36\\lib\\site-packages\\tensorflow\\python\\framework\\dtypes.py:523: FutureWarning: Passing (type, 1) or '1type' as a synonym of type is deprecated; in a future version of numpy, it will be understood as (type, (1,)) / '(1,)type'.\n",
      "  _np_qint8 = np.dtype([(\"qint8\", np.int8, 1)])\n",
      "C:\\Users\\msteele9\\AppData\\Local\\Programs\\Python\\Python36\\lib\\site-packages\\tensorflow\\python\\framework\\dtypes.py:524: FutureWarning: Passing (type, 1) or '1type' as a synonym of type is deprecated; in a future version of numpy, it will be understood as (type, (1,)) / '(1,)type'.\n",
      "  _np_quint8 = np.dtype([(\"quint8\", np.uint8, 1)])\n",
      "C:\\Users\\msteele9\\AppData\\Local\\Programs\\Python\\Python36\\lib\\site-packages\\tensorflow\\python\\framework\\dtypes.py:525: FutureWarning: Passing (type, 1) or '1type' as a synonym of type is deprecated; in a future version of numpy, it will be understood as (type, (1,)) / '(1,)type'.\n",
      "  _np_qint16 = np.dtype([(\"qint16\", np.int16, 1)])\n",
      "C:\\Users\\msteele9\\AppData\\Local\\Programs\\Python\\Python36\\lib\\site-packages\\tensorflow\\python\\framework\\dtypes.py:526: FutureWarning: Passing (type, 1) or '1type' as a synonym of type is deprecated; in a future version of numpy, it will be understood as (type, (1,)) / '(1,)type'.\n",
      "  _np_quint16 = np.dtype([(\"quint16\", np.uint16, 1)])\n",
      "C:\\Users\\msteele9\\AppData\\Local\\Programs\\Python\\Python36\\lib\\site-packages\\tensorflow\\python\\framework\\dtypes.py:527: FutureWarning: Passing (type, 1) or '1type' as a synonym of type is deprecated; in a future version of numpy, it will be understood as (type, (1,)) / '(1,)type'.\n",
      "  _np_qint32 = np.dtype([(\"qint32\", np.int32, 1)])\n",
      "C:\\Users\\msteele9\\AppData\\Local\\Programs\\Python\\Python36\\lib\\site-packages\\tensorflow\\python\\framework\\dtypes.py:532: FutureWarning: Passing (type, 1) or '1type' as a synonym of type is deprecated; in a future version of numpy, it will be understood as (type, (1,)) / '(1,)type'.\n",
      "  np_resource = np.dtype([(\"resource\", np.ubyte, 1)])\n"
     ]
    }
   ],
   "source": [
    "import keras.backend as K\n",
    "\n",
    "def myAccuracy(y_true, y_pred):\n",
    "    diff = K.abs(y_true-y_pred) #absolute difference between correct and predicted values\n",
    "    correct = K.less(diff,0.1+(y_true/2)) #tensor with 0 for false values and 1 for true values\n",
    "    return K.mean(correct) #sum all 1's and divide by the total. "
   ]
  },
  {
   "cell_type": "code",
   "execution_count": 5,
   "metadata": {
    "scrolled": true
   },
   "outputs": [
    {
     "name": "stdout",
     "output_type": "stream",
     "text": [
      "_________________________________________________________________\n",
      "Layer (type)                 Output Shape              Param #   \n",
      "=================================================================\n",
      "dense_1 (Dense)              (None, 2000)              10002000  \n",
      "_________________________________________________________________\n",
      "dense_2 (Dense)              (None, 400)               800400    \n",
      "_________________________________________________________________\n",
      "dropout_1 (Dropout)          (None, 400)               0         \n",
      "_________________________________________________________________\n",
      "dropout_2 (Dropout)          (None, 400)               0         \n",
      "_________________________________________________________________\n",
      "dense_3 (Dense)              (None, 400)               160400    \n",
      "_________________________________________________________________\n",
      "dense_4 (Dense)              (None, 400)               160400    \n",
      "_________________________________________________________________\n",
      "dense_5 (Dense)              (None, 1)                 401       \n",
      "=================================================================\n",
      "Total params: 11,123,601\n",
      "Trainable params: 11,123,601\n",
      "Non-trainable params: 0\n",
      "_________________________________________________________________\n"
     ]
    }
   ],
   "source": [
    "from keras.models import Sequential\n",
    "from keras.layers import Dense\n",
    "from keras.layers import Dropout\n",
    "    \n",
    "model = Sequential()\n",
    " \n",
    "model.add(Dense(units=2000, activation='linear', input_dim=len(vectorizer.get_feature_names())))\n",
    "model.add(Dense(units=400, activation='linear'))\n",
    "model.add(Dropout(0.2))\n",
    "#model.add(Dense(units=400, activation='relu'))\n",
    "model.add(Dropout(0.2))\n",
    "model.add(Dense(units=400, activation='linear'))\n",
    "model.add(Dense(units=400, activation='linear'))\n",
    "model.add(Dense(units=1, activation='relu'))\n",
    " \n",
    "model.compile(loss='mean_squared_logarithmic_error', optimizer='adam', metrics=[myAccuracy])\n",
    "model.summary()"
   ]
  },
  {
   "cell_type": "code",
   "execution_count": 31,
   "metadata": {},
   "outputs": [
    {
     "name": "stdout",
     "output_type": "stream",
     "text": [
      "Train on 32000 samples, validate on 8000 samples\n",
      "Epoch 1/10\n",
      "32000/32000 [==============================] - 2s 69us/step - loss: 1.8340 - myAccuracy: 0.2795 - val_loss: 1.5486 - val_myAccuracy: 0.3010\n",
      "Epoch 2/10\n",
      "32000/32000 [==============================] - 1s 47us/step - loss: 1.4972 - myAccuracy: 0.3125 - val_loss: 1.5574 - val_myAccuracy: 0.2968\n",
      "Epoch 3/10\n",
      "32000/32000 [==============================] - 1s 46us/step - loss: 1.4471 - myAccuracy: 0.3221 - val_loss: 1.6129 - val_myAccuracy: 0.2911\n",
      "Epoch 4/10\n",
      "32000/32000 [==============================] - 1s 46us/step - loss: 1.4408 - myAccuracy: 0.3226 - val_loss: 1.6477 - val_myAccuracy: 0.2937\n",
      "Epoch 5/10\n",
      "32000/32000 [==============================] - 1s 46us/step - loss: 1.4113 - myAccuracy: 0.3260 - val_loss: 1.6382 - val_myAccuracy: 0.2940\n",
      "Epoch 6/10\n",
      "32000/32000 [==============================] - 2s 47us/step - loss: 1.3945 - myAccuracy: 0.3329 - val_loss: 1.6588 - val_myAccuracy: 0.2913\n",
      "Epoch 7/10\n",
      "32000/32000 [==============================] - 1s 47us/step - loss: 1.3879 - myAccuracy: 0.3362 - val_loss: 1.6961 - val_myAccuracy: 0.2887\n",
      "Epoch 8/10\n",
      "32000/32000 [==============================] - 2s 47us/step - loss: 1.3787 - myAccuracy: 0.3368 - val_loss: 1.6681 - val_myAccuracy: 0.2919\n",
      "Epoch 9/10\n",
      "32000/32000 [==============================] - 1s 46us/step - loss: 1.3795 - myAccuracy: 0.3363 - val_loss: 1.6705 - val_myAccuracy: 0.2936\n",
      "Epoch 10/10\n",
      "32000/32000 [==============================] - 1s 46us/step - loss: 1.3702 - myAccuracy: 0.3403 - val_loss: 1.7332 - val_myAccuracy: 0.2945\n"
     ]
    },
    {
     "data": {
      "text/plain": [
       "<keras.callbacks.History at 0x1419e21c0f0>"
      ]
     },
     "execution_count": 31,
     "metadata": {},
     "output_type": "execute_result"
    }
   ],
   "source": [
    "model.fit(X_train_onehot, y_train, \n",
    "          epochs=10, batch_size=1000, verbose=1, \n",
    "          validation_split=0.2)"
   ]
  },
  {
   "cell_type": "code",
   "execution_count": 14,
   "metadata": {},
   "outputs": [],
   "source": [
    "X_test_onehot = vectorizer.fit_transform(X_test)"
   ]
  },
  {
   "cell_type": "code",
   "execution_count": 33,
   "metadata": {},
   "outputs": [
    {
     "name": "stdout",
     "output_type": "stream",
     "text": [
      "10000/10000 [==============================] - 1s 63us/step\n",
      "Accuracy: ['loss', 'myAccuracy'] 2.3878099201202394 0.2315\n"
     ]
    }
   ],
   "source": [
    "scores = model.evaluate(X_test_onehot, y_test, verbose=1)\n",
    "print(\"Accuracy:\", model.metrics_names, scores[0], scores[1])"
   ]
  },
  {
   "cell_type": "markdown",
   "metadata": {},
   "source": [
    "###### Now let's examine the predictions of my model. First I example five sample data points, and then I plot all of my data vs. their predicted values."
   ]
  },
  {
   "cell_type": "code",
   "execution_count": 9,
   "metadata": {},
   "outputs": [
    {
     "data": {
      "text/plain": [
       "43622    Mitch McConnell will soon end the era of relat...\n",
       "13305    It is dangerous and irresponsible for Mr. Carr...\n",
       "21902                             Then watch PBS NewsHour.\n",
       "17346    When protesters blocked ambulances on the inte...\n",
       "32734    Joey and Jack Burone<br/>4/18/17<br/><br/>Toro...\n",
       "Name: commentBody, dtype: object"
      ]
     },
     "execution_count": 9,
     "metadata": {},
     "output_type": "execute_result"
    }
   ],
   "source": [
    "X_train[:5]"
   ]
  },
  {
   "cell_type": "code",
   "execution_count": 10,
   "metadata": {},
   "outputs": [
    {
     "name": "stdout",
     "output_type": "stream",
     "text": [
      "[[ 2.0154786]\n",
      " [11.110621 ]\n",
      " [ 0.8749746]\n",
      " [15.961445 ]\n",
      " [13.580138 ]\n",
      " [ 4.2290893]\n",
      " [ 2.304142 ]\n",
      " [12.646022 ]\n",
      " [ 1.1412611]\n",
      " [ 1.9258257]]\n"
     ]
    }
   ],
   "source": [
    "prediction = model.predict(X_test_onehot)\n",
    "print((prediction[:10]))"
   ]
  },
  {
   "cell_type": "code",
   "execution_count": 11,
   "metadata": {},
   "outputs": [
    {
     "name": "stdout",
     "output_type": "stream",
     "text": [
      "22884     2.0\n",
      "14257     6.0\n",
      "30155     8.0\n",
      "29834     0.0\n",
      "10440     1.0\n",
      "28068     9.0\n",
      "4289     18.0\n",
      "24204     0.0\n",
      "49468     0.0\n",
      "43036     0.0\n",
      "Name: recommendations, dtype: float64\n"
     ]
    }
   ],
   "source": [
    "print(y_test.head(10))"
   ]
  },
  {
   "cell_type": "code",
   "execution_count": 12,
   "metadata": {},
   "outputs": [
    {
     "data": {
      "text/plain": [
       "<Figure size 640x480 with 1 Axes>"
      ]
     },
     "metadata": {},
     "output_type": "display_data"
    }
   ],
   "source": [
    "import matplotlib.pyplot as plt\n",
    "\n",
    "# Plot\n",
    "plt.scatter(y_test, prediction, alpha=0.5)\n",
    "plt.title('Actual values vs. predictions')\n",
    "plt.xlabel('Actual values')\n",
    "plt.ylabel('predictions')\n",
    "\n",
    "axes = plt.gca()\n",
    "axes.set_xlim([0,1000])\n",
    "axes.set_ylim([0,1000])\n",
    "#axes.set_xscale('log')\n",
    "\n",
    "plt.show()"
   ]
  },
  {
   "cell_type": "code",
   "execution_count": 13,
   "metadata": {},
   "outputs": [
    {
     "name": "stdout",
     "output_type": "stream",
     "text": [
      "3.0\n",
      "17.2785\n",
      "6.6775446\n"
     ]
    }
   ],
   "source": [
    "print(y_test.median())\n",
    "print(y_test.mean())\n",
    "print(prediction.mean())"
   ]
  },
  {
   "cell_type": "code",
   "execution_count": 14,
   "metadata": {},
   "outputs": [
    {
     "data": {
      "text/plain": [
       "Text(0.5, 1.0, 'Predictions')"
      ]
     },
     "execution_count": 14,
     "metadata": {},
     "output_type": "execute_result"
    },
    {
     "data": {
      "image/png": "[encoded data removed]",
      "text/plain": [
       "<Figure size 432x288 with 2 Axes>"
      ]
     },
     "metadata": {
      "needs_background": "light"
     },
     "output_type": "display_data"
    }
   ],
   "source": [
    "n_bins = 100\n",
    "\n",
    "# Generate a normal distribution, center at x=0 and y=5\n",
    "x = y_test\n",
    "y = prediction\n",
    "\n",
    "fig, axs = plt.subplots(1, 2, sharey=True, tight_layout=True)\n",
    "\n",
    "\n",
    "# We can set the number of bins with the `bins` kwarg\n",
    "axs[0].hist(x, bins=n_bins)\n",
    "axs[0].set_yscale('log')\n",
    "axs[0].set_title('Actual values')\n",
    "axs[1].hist(y, bins=n_bins)\n",
    "axs[1].set_yscale('log')\n",
    "axs[1].set_title('Predictions')"
   ]
  },
  {
   "cell_type": "markdown",
   "metadata": {},
   "source": [
    "It seems that our predictions fall within a range of 0 - 200, while the actual data runs from 0 - 1000 with a long tail. "
   ]
  },
  {
   "cell_type": "markdown",
   "metadata": {},
   "source": [
    "### Here I try to use Transfer Learning with spaCy embeddings"
   ]
  },
  {
   "cell_type": "code",
   "execution_count": 6,
   "metadata": {},
   "outputs": [
    {
     "name": "stdout",
     "output_type": "stream",
     "text": [
      "C:\\Users\\msteele9\\Documents\\Springboard\n",
      "Files in 'C:\\\\Users\\\\msteele9\\\\Documents\\\\Springboard': ['.git', 'ArticlesApril2017.csv', 'ArticlesApril2018.csv', 'ArticlesFeb2017.csv', 'ArticlesFeb2018.csv', 'ArticlesJan2017.csv', 'ArticlesJan2018.csv', 'ArticlesMarch2017.csv', 'ArticlesMarch2018.csv', 'ArticlesMay2017.csv', 'CommentsApril2017.csv', 'CommentsApril2018.csv', 'CommentsFeb2017.csv', 'CommentsFeb2018.csv', 'CommentsJan2017.csv', 'CommentsJan2018.csv', 'CommentsMarch2017.csv', 'CommentsMarch2018.csv', 'CommentsMay2017.csv', 'fasttext', 'fasttext-win64-latest-Release', 'GloVe-1.2', 'glove.twitter.27B.100d.txt', 'glove.twitter.27B.200d.txt', 'glove.twitter.27B.25d.txt', 'glove.twitter.27B.50d.txt', 'glove.twitter.27B.zip', 'Springboard']\n"
     ]
    }
   ],
   "source": [
    "import os\n",
    "\n",
    "#cwd = os.getcwd()  # Get the current working directory (cwd)\n",
    "GLOVE_PATH = r'C:\\Users\\msteele9\\Documents\\Springboard'\n",
    "os.chdir(GLOVE_PATH)\n",
    "\n",
    "cwd = os.getcwd()\n",
    "\n",
    "print(cwd)\n",
    "\n",
    "files = os.listdir(cwd)  # Get all the files in that directory\n",
    "print(\"Files in %r: %s\" % (cwd, files))"
   ]
  },
  {
   "cell_type": "code",
   "execution_count": 7,
   "metadata": {
    "scrolled": true
   },
   "outputs": [],
   "source": [
    "word2idx = {word: idx for idx, word in enumerate(vectorizer.get_feature_names())}\n",
    "\n",
    "import numpy as np\n",
    "\n",
    "import os\n",
    "cwd = os.getcwd()\n",
    "\n",
    "GLOVE_PATH = r'C:\\Users\\msteele9\\Documents\\Springboard/glove.twitter.27B.25d.txt'\n",
    "GLOVE_VECTOR_LENGHT = 25\n",
    " \n",
    "def read_glove_vectors(path, lenght):\n",
    "    embeddings = {}\n",
    "    with open(path, encoding=\"utf-8\") as glove_f:\n",
    "        for line in glove_f:\n",
    "            chunks = line.split()\n",
    "            #assert len(chunks) == lenght + 1\n",
    "            embeddings[chunks[0]] = np.array(chunks[1:], dtype='float32')\n",
    " \n",
    "    return embeddings\n",
    " \n",
    "GLOVE_INDEX = read_glove_vectors(GLOVE_PATH, GLOVE_VECTOR_LENGHT)\n",
    " \n",
    "# Init the embeddings layer with GloVe embeddings\n",
    "embeddings_index = np.zeros((len(vectorizer.get_feature_names()) + 1, GLOVE_VECTOR_LENGHT))\n",
    "for word, idx in word2idx.items():\n",
    "    try:\n",
    "        embedding = GLOVE_INDEX[word]\n",
    "        embeddings_index[idx] = embedding\n",
    "    except:\n",
    "        pass"
   ]
  },
  {
   "cell_type": "code",
   "execution_count": 20,
   "metadata": {},
   "outputs": [
    {
     "name": "stdout",
     "output_type": "stream",
     "text": [
      "_________________________________________________________________\n",
      "Layer (type)                 Output Shape              Param #   \n",
      "=================================================================\n",
      "embedding_6 (Embedding)      (None, None, 25)          125025    \n",
      "_________________________________________________________________\n",
      "lstm_2 (LSTM)                (None, 128)               78848     \n",
      "_________________________________________________________________\n",
      "dense_18 (Dense)             (None, 400)               51600     \n",
      "_________________________________________________________________\n",
      "dense_19 (Dense)             (None, 1)                 401       \n",
      "=================================================================\n",
      "Total params: 255,874\n",
      "Trainable params: 130,849\n",
      "Non-trainable params: 125,025\n",
      "_________________________________________________________________\n"
     ]
    }
   ],
   "source": [
    "from keras.models import Sequential\n",
    "from keras.layers import Dense, LSTM, Embedding\n",
    "from keras.layers import Dropout\n",
    "    \n",
    "model = Sequential()\n",
    " \n",
    "model.add(Embedding(len(vectorizer.get_feature_names()) + 1,\n",
    "                    GLOVE_VECTOR_LENGHT,  # Embedding size\n",
    "                    weights=[embeddings_index],\n",
    "                    #input_length=MAX_SEQ_LENGHT,\n",
    "                    trainable=False))\n",
    "model.add(LSTM(128))\n",
    "\n",
    "model.add(Dense(units=400, activation='relu'))\n",
    "\n",
    "model.add(Dense(units=1, activation='relu'))\n",
    " \n",
    "model.compile(loss='mean_squared_logarithmic_error', optimizer='adam', metrics=[myAccuracy])\n",
    "model.summary()"
   ]
  },
  {
   "cell_type": "code",
   "execution_count": null,
   "metadata": {},
   "outputs": [
    {
     "name": "stdout",
     "output_type": "stream",
     "text": [
      "Train on 40000 samples, validate on 10000 samples\n",
      "Epoch 1/3\n",
      "11520/40000 [=======>......................] - ETA: 15:52 - loss: 4.0882 - myAccuracy: 0.2667"
     ]
    }
   ],
   "source": [
    "model.fit(X_train_onehot, y_train, \n",
    "          epochs=3, batch_size=128, verbose=1, \n",
    "          validation_data=(X_test_onehot, y_test))\n",
    " \n",
    "scores = model.evaluate(X_test_onehot, y_test, verbose=1)\n",
    "print(\"Accuracy:\", scores[1])  # 0.8296"
   ]
  },
  {
   "cell_type": "code",
   "execution_count": null,
   "metadata": {},
   "outputs": [],
   "source": []
  }
 ],
 "metadata": {
  "kernelspec": {
   "display_name": "Python 3",
   "language": "python",
   "name": "python3"
  },
  "language_info": {
   "codemirror_mode": {
    "name": "ipython",
    "version": 3
   },
   "file_extension": ".py",
   "mimetype": "text/x-python",
   "name": "python",
   "nbconvert_exporter": "python",
   "pygments_lexer": "ipython3",
   "version": "3.6.7"
  }
 },
 "nbformat": 4,
 "nbformat_minor": 2
}
